{
 "cells": [
  {
   "cell_type": "markdown",
   "id": "cf9df625",
   "metadata": {},
   "source": [
    "## Import necessary libraries"
   ]
  },
  {
   "cell_type": "code",
   "execution_count": 1,
   "id": "37844525",
   "metadata": {},
   "outputs": [],
   "source": [
    "import numpy as np\n",
    "import pandas as pd\n",
    "import json\n",
    "import re\n",
    "\n",
    "# tokenize promo voucher\n",
    "import nltk\n",
    "from nltk.tokenize import word_tokenize\n",
    "from nltk.corpus import stopwords"
   ]
  },
  {
   "cell_type": "markdown",
   "id": "999b591d",
   "metadata": {},
   "source": [
    "## Checking Tables and datatypes"
   ]
  },
  {
   "cell_type": "code",
   "execution_count": 2,
   "id": "6f807215",
   "metadata": {},
   "outputs": [],
   "source": [
    "resData = pd.read_csv('./Datasets/Grab SG Restaurants.csv')\n",
    "resData.head()\n",
    "\n",
    "pd.set_option('display.max_columns', 50)"
   ]
  },
  {
   "cell_type": "code",
   "execution_count": 3,
   "id": "e2fc4fa6",
   "metadata": {},
   "outputs": [
    {
     "name": "stdout",
     "output_type": "stream",
     "text": [
      "id_source            object\n",
      "name                 object\n",
      "address              object\n",
      "country              object\n",
      "cuisine              object\n",
      "currency             object\n",
      "delivery_cost       float64\n",
      "lat                 float64\n",
      "lon                 float64\n",
      "opening_hours        object\n",
      "image_url            object\n",
      "radius                int64\n",
      "rating              float64\n",
      "reviews_nr          float64\n",
      "delivery_options     object\n",
      "promo                object\n",
      "loc_type             object\n",
      "delivery_by          object\n",
      "delivery_time       float64\n",
      "dtype: object\n"
     ]
    }
   ],
   "source": [
    "print(resData.dtypes)"
   ]
  },
  {
   "cell_type": "markdown",
   "id": "ba269ae8",
   "metadata": {},
   "source": [
    "## Remove unwanted columns"
   ]
  },
  {
   "cell_type": "code",
   "execution_count": 4,
   "id": "ee7ff97a",
   "metadata": {},
   "outputs": [],
   "source": [
    "resData.drop(columns=['id_source', 'country', 'currency' ,'image_url'], inplace=True)"
   ]
  },
  {
   "cell_type": "markdown",
   "id": "c91fba86",
   "metadata": {},
   "source": [
    "## Calculating total opening hours"
   ]
  },
  {
   "cell_type": "code",
   "execution_count": 5,
   "id": "afc90183",
   "metadata": {},
   "outputs": [],
   "source": [
    "jsonOpeningHours = resData['opening_hours']\n",
    "\n",
    "def calculate_total_opening_time(opening_hours_json):\n",
    "    # Load the JSON string into a dictionary\n",
    "    opening_hours_dict = json.loads(opening_hours_json)\n",
    "    \n",
    "    opening_hours = [hours for day, hours in opening_hours_dict.items() if day not in ['open', 'displayedHours']]\n",
    "    \n",
    "    total_opening_time = sum(\n",
    "        (int(closing_time[:2]) - int(opening_time[:2])) + (int(closing_time[3:]) - int(opening_time[3:])) / 60\n",
    "        for hours in opening_hours if isinstance(hours, str) and hours != \"Closed\"\n",
    "        for opening_time, closing_time in re.findall(r'(\\d{2}:\\d{2})-(\\d{2}:\\d{2})', hours)\n",
    "    )\n",
    "    \n",
    "    return total_opening_time\n",
    "\n",
    "resData['total opening time hours'] = jsonOpeningHours.apply(calculate_total_opening_time)\n"
   ]
  },
  {
   "cell_type": "code",
   "execution_count": 6,
   "id": "e5d007db",
   "metadata": {
    "scrolled": false
   },
   "outputs": [
    {
     "data": {
      "text/html": [
       "<div>\n",
       "<style scoped>\n",
       "    .dataframe tbody tr th:only-of-type {\n",
       "        vertical-align: middle;\n",
       "    }\n",
       "\n",
       "    .dataframe tbody tr th {\n",
       "        vertical-align: top;\n",
       "    }\n",
       "\n",
       "    .dataframe thead th {\n",
       "        text-align: right;\n",
       "    }\n",
       "</style>\n",
       "<table border=\"1\" class=\"dataframe\">\n",
       "  <thead>\n",
       "    <tr style=\"text-align: right;\">\n",
       "      <th></th>\n",
       "      <th>name</th>\n",
       "      <th>address</th>\n",
       "      <th>cuisine</th>\n",
       "      <th>delivery_cost</th>\n",
       "      <th>lat</th>\n",
       "      <th>lon</th>\n",
       "      <th>opening_hours</th>\n",
       "      <th>radius</th>\n",
       "      <th>rating</th>\n",
       "      <th>reviews_nr</th>\n",
       "      <th>delivery_options</th>\n",
       "      <th>promo</th>\n",
       "      <th>loc_type</th>\n",
       "      <th>delivery_by</th>\n",
       "      <th>delivery_time</th>\n",
       "      <th>total opening time hours</th>\n",
       "    </tr>\n",
       "  </thead>\n",
       "  <tbody>\n",
       "    <tr>\n",
       "      <th>0</th>\n",
       "      <td>Texas Chicken</td>\n",
       "      <td>Texas Chicken - VivoCity</td>\n",
       "      <td>[\"Western\", \"Fast Food\", \"Halal\", \"Chicken\", \"...</td>\n",
       "      <td>570.0</td>\n",
       "      <td>1.264792</td>\n",
       "      <td>103.822103</td>\n",
       "      <td>{\"open\": true, \"displayedHours\": \"10:30-21:30\"...</td>\n",
       "      <td>5000</td>\n",
       "      <td>3.8</td>\n",
       "      <td>1591.0</td>\n",
       "      <td>ONLY_DELIVERY</td>\n",
       "      <td>Use 'TEATIME' for FREE delivery between 3PM to...</td>\n",
       "      <td>FOOD</td>\n",
       "      <td>GRAB</td>\n",
       "      <td>43.0</td>\n",
       "      <td>75.75</td>\n",
       "    </tr>\n",
       "    <tr>\n",
       "      <th>1</th>\n",
       "      <td>Subway</td>\n",
       "      <td>Subway - Vivocity</td>\n",
       "      <td>[\"Healthy\", \"Sandwiches\", \"Fast Food\", \"Halal\"...</td>\n",
       "      <td>570.0</td>\n",
       "      <td>1.264741</td>\n",
       "      <td>103.822072</td>\n",
       "      <td>{\"open\": true, \"displayedHours\": \"12:00-19:00\"...</td>\n",
       "      <td>3000</td>\n",
       "      <td>4.2</td>\n",
       "      <td>197.0</td>\n",
       "      <td>ONLY_DELIVERY</td>\n",
       "      <td>Use 'TEATIME' for FREE delivery between 3PM to...</td>\n",
       "      <td>FOOD</td>\n",
       "      <td>GRAB</td>\n",
       "      <td>42.0</td>\n",
       "      <td>49.00</td>\n",
       "    </tr>\n",
       "    <tr>\n",
       "      <th>2</th>\n",
       "      <td>LiHO Tea</td>\n",
       "      <td>LiHO Tea - Vivo City</td>\n",
       "      <td>[\"Same Prices In-Store\", \"Beverages\", \"Local\",...</td>\n",
       "      <td>560.0</td>\n",
       "      <td>1.264309</td>\n",
       "      <td>103.821369</td>\n",
       "      <td>{\"open\": true, \"displayedHours\": \"11:30-20:45\"...</td>\n",
       "      <td>5000</td>\n",
       "      <td>4.5</td>\n",
       "      <td>353.0</td>\n",
       "      <td>DELIVERY_TAKEAWAY</td>\n",
       "      <td>Use 'TEATIME' for FREE delivery between 3PM to...</td>\n",
       "      <td>FOOD</td>\n",
       "      <td>GRAB</td>\n",
       "      <td>41.0</td>\n",
       "      <td>64.75</td>\n",
       "    </tr>\n",
       "    <tr>\n",
       "      <th>3</th>\n",
       "      <td>Wingstop</td>\n",
       "      <td>Wingstop - VivoCity</td>\n",
       "      <td>[\"Halal\", \"Chicken\", \"Fast Food\", \"Burger\", \"W...</td>\n",
       "      <td>560.0</td>\n",
       "      <td>1.263527</td>\n",
       "      <td>103.821712</td>\n",
       "      <td>{\"open\": true, \"displayedHours\": \"11:00-21:00\"...</td>\n",
       "      <td>5000</td>\n",
       "      <td>4.4</td>\n",
       "      <td>1391.0</td>\n",
       "      <td>ONLY_DELIVERY</td>\n",
       "      <td>Use 'TEATIME' for FREE delivery between 3PM to...</td>\n",
       "      <td>FOOD</td>\n",
       "      <td>GRAB</td>\n",
       "      <td>45.0</td>\n",
       "      <td>70.00</td>\n",
       "    </tr>\n",
       "    <tr>\n",
       "      <th>4</th>\n",
       "      <td>Le Shrimp Ramen</td>\n",
       "      <td>Le Shrimp Ramen - Vivocity</td>\n",
       "      <td>[\"Japanese\", \"Ramen\", \"Noodles\", \"Asian\"]</td>\n",
       "      <td>570.0</td>\n",
       "      <td>1.264810</td>\n",
       "      <td>103.822554</td>\n",
       "      <td>{\"open\": true, \"displayedHours\": \"10:30-21:00\"...</td>\n",
       "      <td>5000</td>\n",
       "      <td>4.6</td>\n",
       "      <td>309.0</td>\n",
       "      <td>DELIVERY_TAKEAWAY</td>\n",
       "      <td>Use 'TEATIME' for FREE delivery between 3PM to...</td>\n",
       "      <td>FOOD</td>\n",
       "      <td>GRAB</td>\n",
       "      <td>44.0</td>\n",
       "      <td>73.50</td>\n",
       "    </tr>\n",
       "  </tbody>\n",
       "</table>\n",
       "</div>"
      ],
      "text/plain": [
       "              name                     address  \\\n",
       "0    Texas Chicken    Texas Chicken - VivoCity   \n",
       "1           Subway           Subway - Vivocity   \n",
       "2         LiHO Tea        LiHO Tea - Vivo City   \n",
       "3         Wingstop         Wingstop - VivoCity   \n",
       "4  Le Shrimp Ramen  Le Shrimp Ramen - Vivocity   \n",
       "\n",
       "                                             cuisine  delivery_cost       lat  \\\n",
       "0  [\"Western\", \"Fast Food\", \"Halal\", \"Chicken\", \"...          570.0  1.264792   \n",
       "1  [\"Healthy\", \"Sandwiches\", \"Fast Food\", \"Halal\"...          570.0  1.264741   \n",
       "2  [\"Same Prices In-Store\", \"Beverages\", \"Local\",...          560.0  1.264309   \n",
       "3  [\"Halal\", \"Chicken\", \"Fast Food\", \"Burger\", \"W...          560.0  1.263527   \n",
       "4          [\"Japanese\", \"Ramen\", \"Noodles\", \"Asian\"]          570.0  1.264810   \n",
       "\n",
       "          lon                                      opening_hours  radius  \\\n",
       "0  103.822103  {\"open\": true, \"displayedHours\": \"10:30-21:30\"...    5000   \n",
       "1  103.822072  {\"open\": true, \"displayedHours\": \"12:00-19:00\"...    3000   \n",
       "2  103.821369  {\"open\": true, \"displayedHours\": \"11:30-20:45\"...    5000   \n",
       "3  103.821712  {\"open\": true, \"displayedHours\": \"11:00-21:00\"...    5000   \n",
       "4  103.822554  {\"open\": true, \"displayedHours\": \"10:30-21:00\"...    5000   \n",
       "\n",
       "   rating  reviews_nr   delivery_options  \\\n",
       "0     3.8      1591.0      ONLY_DELIVERY   \n",
       "1     4.2       197.0      ONLY_DELIVERY   \n",
       "2     4.5       353.0  DELIVERY_TAKEAWAY   \n",
       "3     4.4      1391.0      ONLY_DELIVERY   \n",
       "4     4.6       309.0  DELIVERY_TAKEAWAY   \n",
       "\n",
       "                                               promo loc_type delivery_by  \\\n",
       "0  Use 'TEATIME' for FREE delivery between 3PM to...     FOOD        GRAB   \n",
       "1  Use 'TEATIME' for FREE delivery between 3PM to...     FOOD        GRAB   \n",
       "2  Use 'TEATIME' for FREE delivery between 3PM to...     FOOD        GRAB   \n",
       "3  Use 'TEATIME' for FREE delivery between 3PM to...     FOOD        GRAB   \n",
       "4  Use 'TEATIME' for FREE delivery between 3PM to...     FOOD        GRAB   \n",
       "\n",
       "   delivery_time  total opening time hours  \n",
       "0           43.0                     75.75  \n",
       "1           42.0                     49.00  \n",
       "2           41.0                     64.75  \n",
       "3           45.0                     70.00  \n",
       "4           44.0                     73.50  "
      ]
     },
     "execution_count": 6,
     "metadata": {},
     "output_type": "execute_result"
    }
   ],
   "source": [
    "resData.head()"
   ]
  },
  {
   "cell_type": "markdown",
   "id": "67815906",
   "metadata": {},
   "source": [
    "## Calculate weighted_ratings "
   ]
  },
  {
   "cell_type": "code",
   "execution_count": 7,
   "id": "8217d78e",
   "metadata": {},
   "outputs": [
    {
     "name": "stdout",
     "output_type": "stream",
     "text": [
      "Index(['name', 'address', 'cuisine', 'delivery_cost', 'lat', 'lon',\n",
      "       'opening_hours', 'radius', 'rating', 'reviews_nr', 'delivery_options',\n",
      "       'promo', 'loc_type', 'delivery_by', 'delivery_time',\n",
      "       'total opening time hours'],\n",
      "      dtype='object')\n",
      "Initial row count: 16136\n",
      "Final row count: 13987\n"
     ]
    }
   ],
   "source": [
    "print(resData.columns)\n",
    "\n",
    "\n",
    "initial_row_count = len(resData)\n",
    "resData = resData[(resData['rating'] >= 0) & (resData['rating'] <= 5)]\n",
    "final_row_count = len(resData)\n",
    "\n",
    "print(f\"Initial row count: {initial_row_count}\")\n",
    "print(f\"Final row count: {final_row_count}\")\n"
   ]
  },
  {
   "cell_type": "code",
   "execution_count": 10,
   "id": "8a678891",
   "metadata": {},
   "outputs": [
    {
     "data": {
      "text/plain": [
       "(count    13602.000000\n",
       " mean       343.591604\n",
       " std        846.893054\n",
       " min          1.000000\n",
       " 25%         16.000000\n",
       " 50%         74.000000\n",
       " 75%        303.000000\n",
       " max      21113.000000\n",
       " Name: reviews_nr, dtype: float64,\n",
       " 4.2447129477371845)"
      ]
     },
     "execution_count": 10,
     "metadata": {},
     "output_type": "execute_result"
    }
   ],
   "source": [
    "review_stats = resData['reviews_nr'].describe()\n",
    "mean_rating = resData['rating'].mean()\n",
    "\n",
    "review_stats, mean_rating"
   ]
  },
  {
   "cell_type": "code",
   "execution_count": 12,
   "id": "e6a435ca",
   "metadata": {},
   "outputs": [
    {
     "data": {
      "text/html": [
       "<div>\n",
       "<style scoped>\n",
       "    .dataframe tbody tr th:only-of-type {\n",
       "        vertical-align: middle;\n",
       "    }\n",
       "\n",
       "    .dataframe tbody tr th {\n",
       "        vertical-align: top;\n",
       "    }\n",
       "\n",
       "    .dataframe thead th {\n",
       "        text-align: right;\n",
       "    }\n",
       "</style>\n",
       "<table border=\"1\" class=\"dataframe\">\n",
       "  <thead>\n",
       "    <tr style=\"text-align: right;\">\n",
       "      <th></th>\n",
       "      <th>name</th>\n",
       "      <th>rating</th>\n",
       "      <th>reviews_nr</th>\n",
       "      <th>weighted_rating</th>\n",
       "    </tr>\n",
       "  </thead>\n",
       "  <tbody>\n",
       "    <tr>\n",
       "      <th>0</th>\n",
       "      <td>Texas Chicken</td>\n",
       "      <td>3.8</td>\n",
       "      <td>1591.0</td>\n",
       "      <td>3.871145</td>\n",
       "    </tr>\n",
       "    <tr>\n",
       "      <th>1</th>\n",
       "      <td>Subway</td>\n",
       "      <td>4.2</td>\n",
       "      <td>197.0</td>\n",
       "      <td>4.227096</td>\n",
       "    </tr>\n",
       "    <tr>\n",
       "      <th>2</th>\n",
       "      <td>LiHO Tea</td>\n",
       "      <td>4.5</td>\n",
       "      <td>353.0</td>\n",
       "      <td>4.382085</td>\n",
       "    </tr>\n",
       "    <tr>\n",
       "      <th>3</th>\n",
       "      <td>Wingstop</td>\n",
       "      <td>4.4</td>\n",
       "      <td>1391.0</td>\n",
       "      <td>4.372224</td>\n",
       "    </tr>\n",
       "    <tr>\n",
       "      <th>4</th>\n",
       "      <td>Le Shrimp Ramen</td>\n",
       "      <td>4.6</td>\n",
       "      <td>309.0</td>\n",
       "      <td>4.424098</td>\n",
       "    </tr>\n",
       "  </tbody>\n",
       "</table>\n",
       "</div>"
      ],
      "text/plain": [
       "              name  rating  reviews_nr  weighted_rating\n",
       "0    Texas Chicken     3.8      1591.0         3.871145\n",
       "1           Subway     4.2       197.0         4.227096\n",
       "2         LiHO Tea     4.5       353.0         4.382085\n",
       "3         Wingstop     4.4      1391.0         4.372224\n",
       "4  Le Shrimp Ramen     4.6       309.0         4.424098"
      ]
     },
     "execution_count": 12,
     "metadata": {},
     "output_type": "execute_result"
    }
   ],
   "source": [
    "# Set the value of m based on the 75th percentile of reviews\n",
    "m = review_stats['75%']\n",
    "\n",
    "# Calculate the weighted rating\n",
    "resData['weighted_rating'] = ((resData['reviews_nr'] / (resData['reviews_nr'] + m)) * resData['rating']) + \\\n",
    "                          ((m / (resData['reviews_nr'] + m)) * mean_rating)\n",
    "\n",
    "# Show the updated dataframe with the new 'weighted_rating' column\n",
    "resData[['name', 'rating', 'reviews_nr', 'weighted_rating']].head()\n"
   ]
  },
  {
   "cell_type": "code",
   "execution_count": 13,
   "id": "97ee75d5",
   "metadata": {},
   "outputs": [],
   "source": [
    "resData.to_csv('./Datasets/Cleaned Grab SG Restaurants.csv', index=False)"
   ]
  },
  {
   "cell_type": "code",
   "execution_count": null,
   "id": "e8d10a99",
   "metadata": {},
   "outputs": [],
   "source": []
  }
 ],
 "metadata": {
  "kernelspec": {
   "display_name": "Python 3 (ipykernel)",
   "language": "python",
   "name": "python3"
  },
  "language_info": {
   "codemirror_mode": {
    "name": "ipython",
    "version": 3
   },
   "file_extension": ".py",
   "mimetype": "text/x-python",
   "name": "python",
   "nbconvert_exporter": "python",
   "pygments_lexer": "ipython3",
   "version": "3.11.5"
  }
 },
 "nbformat": 4,
 "nbformat_minor": 5
}
