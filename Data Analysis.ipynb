{
 "cells": [
  {
   "cell_type": "markdown",
   "id": "98bfe549",
   "metadata": {},
   "source": [
    "# Import essential library"
   ]
  },
  {
   "cell_type": "code",
   "execution_count": 1,
   "id": "42e2442f",
   "metadata": {},
   "outputs": [],
   "source": [
    "import pandas as pd\n",
    "import numpy as np\n",
    "import matplotlib.pyplot as plt\n",
    "import seaborn as sns"
   ]
  },
  {
   "cell_type": "markdown",
   "id": "171e63df",
   "metadata": {},
   "source": [
    "# Import Dataset"
   ]
  },
  {
   "cell_type": "code",
   "execution_count": 2,
   "id": "e17e39c4",
   "metadata": {},
   "outputs": [
    {
     "data": {
      "text/html": [
       "<div>\n",
       "<style scoped>\n",
       "    .dataframe tbody tr th:only-of-type {\n",
       "        vertical-align: middle;\n",
       "    }\n",
       "\n",
       "    .dataframe tbody tr th {\n",
       "        vertical-align: top;\n",
       "    }\n",
       "\n",
       "    .dataframe thead th {\n",
       "        text-align: right;\n",
       "    }\n",
       "</style>\n",
       "<table border=\"1\" class=\"dataframe\">\n",
       "  <thead>\n",
       "    <tr style=\"text-align: right;\">\n",
       "      <th></th>\n",
       "      <th>name</th>\n",
       "      <th>address</th>\n",
       "      <th>cuisine</th>\n",
       "      <th>delivery_cost</th>\n",
       "      <th>lat</th>\n",
       "      <th>lon</th>\n",
       "      <th>opening_hours</th>\n",
       "      <th>radius</th>\n",
       "      <th>rating</th>\n",
       "      <th>reviews_nr</th>\n",
       "      <th>delivery_options</th>\n",
       "      <th>promo</th>\n",
       "      <th>loc_type</th>\n",
       "      <th>delivery_by</th>\n",
       "      <th>delivery_time</th>\n",
       "      <th>total opening time hours</th>\n",
       "      <th>weighted_rating</th>\n",
       "    </tr>\n",
       "  </thead>\n",
       "  <tbody>\n",
       "    <tr>\n",
       "      <th>0</th>\n",
       "      <td>Texas Chicken</td>\n",
       "      <td>Texas Chicken - VivoCity</td>\n",
       "      <td>[\"Western\", \"Fast Food\", \"Halal\", \"Chicken\", \"...</td>\n",
       "      <td>570.0</td>\n",
       "      <td>1.264792</td>\n",
       "      <td>103.822103</td>\n",
       "      <td>{\"open\": true, \"displayedHours\": \"10:30-21:30\"...</td>\n",
       "      <td>5000</td>\n",
       "      <td>3.8</td>\n",
       "      <td>1591.0</td>\n",
       "      <td>ONLY_DELIVERY</td>\n",
       "      <td>Use 'TEATIME' for FREE delivery between 3PM to...</td>\n",
       "      <td>FOOD</td>\n",
       "      <td>GRAB</td>\n",
       "      <td>43.0</td>\n",
       "      <td>75.75</td>\n",
       "      <td>3.871145</td>\n",
       "    </tr>\n",
       "    <tr>\n",
       "      <th>1</th>\n",
       "      <td>Subway</td>\n",
       "      <td>Subway - Vivocity</td>\n",
       "      <td>[\"Healthy\", \"Sandwiches\", \"Fast Food\", \"Halal\"...</td>\n",
       "      <td>570.0</td>\n",
       "      <td>1.264741</td>\n",
       "      <td>103.822072</td>\n",
       "      <td>{\"open\": true, \"displayedHours\": \"12:00-19:00\"...</td>\n",
       "      <td>3000</td>\n",
       "      <td>4.2</td>\n",
       "      <td>197.0</td>\n",
       "      <td>ONLY_DELIVERY</td>\n",
       "      <td>Use 'TEATIME' for FREE delivery between 3PM to...</td>\n",
       "      <td>FOOD</td>\n",
       "      <td>GRAB</td>\n",
       "      <td>42.0</td>\n",
       "      <td>49.00</td>\n",
       "      <td>4.227096</td>\n",
       "    </tr>\n",
       "    <tr>\n",
       "      <th>2</th>\n",
       "      <td>LiHO Tea</td>\n",
       "      <td>LiHO Tea - Vivo City</td>\n",
       "      <td>[\"Same Prices In-Store\", \"Beverages\", \"Local\",...</td>\n",
       "      <td>560.0</td>\n",
       "      <td>1.264309</td>\n",
       "      <td>103.821369</td>\n",
       "      <td>{\"open\": true, \"displayedHours\": \"11:30-20:45\"...</td>\n",
       "      <td>5000</td>\n",
       "      <td>4.5</td>\n",
       "      <td>353.0</td>\n",
       "      <td>DELIVERY_TAKEAWAY</td>\n",
       "      <td>Use 'TEATIME' for FREE delivery between 3PM to...</td>\n",
       "      <td>FOOD</td>\n",
       "      <td>GRAB</td>\n",
       "      <td>41.0</td>\n",
       "      <td>64.75</td>\n",
       "      <td>4.382085</td>\n",
       "    </tr>\n",
       "    <tr>\n",
       "      <th>3</th>\n",
       "      <td>Wingstop</td>\n",
       "      <td>Wingstop - VivoCity</td>\n",
       "      <td>[\"Halal\", \"Chicken\", \"Fast Food\", \"Burger\", \"W...</td>\n",
       "      <td>560.0</td>\n",
       "      <td>1.263527</td>\n",
       "      <td>103.821712</td>\n",
       "      <td>{\"open\": true, \"displayedHours\": \"11:00-21:00\"...</td>\n",
       "      <td>5000</td>\n",
       "      <td>4.4</td>\n",
       "      <td>1391.0</td>\n",
       "      <td>ONLY_DELIVERY</td>\n",
       "      <td>Use 'TEATIME' for FREE delivery between 3PM to...</td>\n",
       "      <td>FOOD</td>\n",
       "      <td>GRAB</td>\n",
       "      <td>45.0</td>\n",
       "      <td>70.00</td>\n",
       "      <td>4.372224</td>\n",
       "    </tr>\n",
       "    <tr>\n",
       "      <th>4</th>\n",
       "      <td>Le Shrimp Ramen</td>\n",
       "      <td>Le Shrimp Ramen - Vivocity</td>\n",
       "      <td>[\"Japanese\", \"Ramen\", \"Noodles\", \"Asian\"]</td>\n",
       "      <td>570.0</td>\n",
       "      <td>1.264810</td>\n",
       "      <td>103.822554</td>\n",
       "      <td>{\"open\": true, \"displayedHours\": \"10:30-21:00\"...</td>\n",
       "      <td>5000</td>\n",
       "      <td>4.6</td>\n",
       "      <td>309.0</td>\n",
       "      <td>DELIVERY_TAKEAWAY</td>\n",
       "      <td>Use 'TEATIME' for FREE delivery between 3PM to...</td>\n",
       "      <td>FOOD</td>\n",
       "      <td>GRAB</td>\n",
       "      <td>44.0</td>\n",
       "      <td>73.50</td>\n",
       "      <td>4.424098</td>\n",
       "    </tr>\n",
       "  </tbody>\n",
       "</table>\n",
       "</div>"
      ],
      "text/plain": [
       "              name                     address  \\\n",
       "0    Texas Chicken    Texas Chicken - VivoCity   \n",
       "1           Subway           Subway - Vivocity   \n",
       "2         LiHO Tea        LiHO Tea - Vivo City   \n",
       "3         Wingstop         Wingstop - VivoCity   \n",
       "4  Le Shrimp Ramen  Le Shrimp Ramen - Vivocity   \n",
       "\n",
       "                                             cuisine  delivery_cost       lat  \\\n",
       "0  [\"Western\", \"Fast Food\", \"Halal\", \"Chicken\", \"...          570.0  1.264792   \n",
       "1  [\"Healthy\", \"Sandwiches\", \"Fast Food\", \"Halal\"...          570.0  1.264741   \n",
       "2  [\"Same Prices In-Store\", \"Beverages\", \"Local\",...          560.0  1.264309   \n",
       "3  [\"Halal\", \"Chicken\", \"Fast Food\", \"Burger\", \"W...          560.0  1.263527   \n",
       "4          [\"Japanese\", \"Ramen\", \"Noodles\", \"Asian\"]          570.0  1.264810   \n",
       "\n",
       "          lon                                      opening_hours  radius  \\\n",
       "0  103.822103  {\"open\": true, \"displayedHours\": \"10:30-21:30\"...    5000   \n",
       "1  103.822072  {\"open\": true, \"displayedHours\": \"12:00-19:00\"...    3000   \n",
       "2  103.821369  {\"open\": true, \"displayedHours\": \"11:30-20:45\"...    5000   \n",
       "3  103.821712  {\"open\": true, \"displayedHours\": \"11:00-21:00\"...    5000   \n",
       "4  103.822554  {\"open\": true, \"displayedHours\": \"10:30-21:00\"...    5000   \n",
       "\n",
       "   rating  reviews_nr   delivery_options  \\\n",
       "0     3.8      1591.0      ONLY_DELIVERY   \n",
       "1     4.2       197.0      ONLY_DELIVERY   \n",
       "2     4.5       353.0  DELIVERY_TAKEAWAY   \n",
       "3     4.4      1391.0      ONLY_DELIVERY   \n",
       "4     4.6       309.0  DELIVERY_TAKEAWAY   \n",
       "\n",
       "                                               promo loc_type delivery_by  \\\n",
       "0  Use 'TEATIME' for FREE delivery between 3PM to...     FOOD        GRAB   \n",
       "1  Use 'TEATIME' for FREE delivery between 3PM to...     FOOD        GRAB   \n",
       "2  Use 'TEATIME' for FREE delivery between 3PM to...     FOOD        GRAB   \n",
       "3  Use 'TEATIME' for FREE delivery between 3PM to...     FOOD        GRAB   \n",
       "4  Use 'TEATIME' for FREE delivery between 3PM to...     FOOD        GRAB   \n",
       "\n",
       "   delivery_time  total opening time hours  weighted_rating  \n",
       "0           43.0                     75.75         3.871145  \n",
       "1           42.0                     49.00         4.227096  \n",
       "2           41.0                     64.75         4.382085  \n",
       "3           45.0                     70.00         4.372224  \n",
       "4           44.0                     73.50         4.424098  "
      ]
     },
     "execution_count": 2,
     "metadata": {},
     "output_type": "execute_result"
    }
   ],
   "source": [
    "data = pd.read_csv('./Datasets/Cleaned Grab SG Restaurants.csv')\n",
    "data.head()"
   ]
  },
  {
   "cell_type": "markdown",
   "id": "b0ed9bc6",
   "metadata": {},
   "source": [
    "## Delivery Time vs Weighted Rating"
   ]
  },
  {
   "cell_type": "code",
   "execution_count": 3,
   "id": "5936d532",
   "metadata": {},
   "outputs": [
    {
     "data": {
      "image/png": "[encoded data removed]",
      "text/plain": [
       "<Figure size 1000x600 with 1 Axes>"
      ]
     },
     "metadata": {},
     "output_type": "display_data"
    }
   ],
   "source": [
    "import matplotlib.pyplot as plt\n",
    "import seaborn as sns\n",
    "\n",
    "# Scatter plot of delivery time versus weighted rating\n",
    "plt.figure(figsize=(10, 6))\n",
    "sns.scatterplot(x='delivery_time', y='weighted_rating', data=data)\n",
    "plt.title('Scatter Plot of Delivery Time vs Weighted Rating')\n",
    "plt.xlabel('Delivery Time (minutes)')\n",
    "plt.ylabel('Weighted Rating')\n",
    "plt.grid(True)\n",
    "plt.show()\n"
   ]
  },
  {
   "cell_type": "code",
   "execution_count": 4,
   "id": "d9d82e9b",
   "metadata": {},
   "outputs": [
    {
     "ename": "NameError",
     "evalue": "name 'train_test_split' is not defined",
     "output_type": "error",
     "traceback": [
      "\u001b[0;31m---------------------------------------------------------------------------\u001b[0m",
      "\u001b[0;31mNameError\u001b[0m                                 Traceback (most recent call last)",
      "Cell \u001b[0;32mIn[4], line 9\u001b[0m\n\u001b[1;32m      6\u001b[0m y_final \u001b[38;5;241m=\u001b[39m data_final[\u001b[38;5;124m'\u001b[39m\u001b[38;5;124mweighted_rating\u001b[39m\u001b[38;5;124m'\u001b[39m]\n\u001b[1;32m      8\u001b[0m \u001b[38;5;66;03m# Split the data into training and testing sets again\u001b[39;00m\n\u001b[0;32m----> 9\u001b[0m X_train_final, X_test_final, y_train_final, y_test_final \u001b[38;5;241m=\u001b[39m train_test_split(X_final, y_final, test_size\u001b[38;5;241m=\u001b[39m\u001b[38;5;241m0.2\u001b[39m, random_state\u001b[38;5;241m=\u001b[39m\u001b[38;5;241m42\u001b[39m)\n\u001b[1;32m     11\u001b[0m \u001b[38;5;66;03m# Create and train the linear regression model\u001b[39;00m\n\u001b[1;32m     12\u001b[0m model_final \u001b[38;5;241m=\u001b[39m LinearRegression()\n",
      "\u001b[0;31mNameError\u001b[0m: name 'train_test_split' is not defined"
     ]
    }
   ],
   "source": [
    "# Drop rows with missing values in both 'delivery_time' and 'weighted_rating' columns\n",
    "data_final = data.dropna(subset=['delivery_time', 'weighted_rating'])\n",
    "\n",
    "# Prepare the data for regression once more\n",
    "X_final = data_final[['delivery_time']]\n",
    "y_final = data_final['weighted_rating']\n",
    "\n",
    "# Split the data into training and testing sets again\n",
    "X_train_final, X_test_final, y_train_final, y_test_final = train_test_split(X_final, y_final, test_size=0.2, random_state=42)\n",
    "\n",
    "# Create and train the linear regression model\n",
    "model_final = LinearRegression()\n",
    "model_final.fit(X_train_final, y_train_final)\n",
    "\n",
    "# Predict on the test set\n",
    "y_pred_final = model_final.predict(X_test_final)\n",
    "\n",
    "# Calculate MSE and R^2\n",
    "mse_final = mean_squared_error(y_test_final, y_pred_final)\n",
    "r2_final = r2_score(y_test_final, y_pred_final)\n",
    "\n",
    "mse_final, r2_final\n"
   ]
  },
  {
   "cell_type": "markdown",
   "id": "8a2c1d24",
   "metadata": {},
   "source": [
    "## Evaluation of Linear Regression Model: Delivery Time vs Weighted Rating\n",
    "\n",
    "### Mean Squared Error (MSE):\n",
    "- **MSE**: 0.0121\n",
    "  - The MSE is relatively low, indicating that the model's predictions are close to the actual data points on average. However, MSE alone does not provide a complete measure of model accuracy.\n",
    "\n",
    "### Coefficient of Determination (R²):\n",
    "- **R²**: -0.0039\n",
    "  - The negative R² value suggests that the model fails to effectively explain the variation in `weighted_rating`. This implies that using this model is no better than using the mean of the observed responses as a predictor.\n",
    "\n",
    "### General Analysis:\n",
    "- The **negative R² value** highlights that a linear model might be inappropriate for this dataset, suggesting a lack of linear relationship between `delivery_time` and `weighted_rating`.\n",
    "- **Delivery time** appears to be a poor predictor of weighted rating. This result points towards the need for considering other variables that could be more influential in determining the rating.\n",
    "- The relationship between delivery time and weighted rating might be more complex than what can be captured by a simple linear model. Exploring **alternative models** or including **additional predictors** could potentially provide better insights.\n",
    "- Considering **non-linear models** or different forms of regression analysis might yield more informative results about the dynamics influencing restaurant ratings.\n"
   ]
  },
  {
   "cell_type": "markdown",
   "id": "ebe3c7bd",
   "metadata": {},
   "source": [
    "# Total Opening Hours vs Weighted Rating"
   ]
  },
  {
   "cell_type": "code",
   "execution_count": null,
   "id": "adb277a4",
   "metadata": {},
   "outputs": [],
   "source": [
    "# Scatter plot of total opening time hours versus weighted rating\n",
    "plt.figure(figsize=(10, 6))\n",
    "sns.scatterplot(x='total opening time hours', y='weighted_rating', data=data_final)\n",
    "plt.title('Scatter Plot of Total Opening Time Hours vs Weighted Rating')\n",
    "plt.xlabel('Total Opening Time Hours')\n",
    "plt.ylabel('Weighted Rating')\n",
    "plt.grid(True)\n",
    "plt.show()\n"
   ]
  },
  {
   "cell_type": "markdown",
   "id": "e0f14346",
   "metadata": {},
   "source": [
    "The correlation analysis between **Total Opening Time Hours** and **Rating** results in a very weak negative correlation coefficient of approximately **-0.016**. The scatter plot shows no clear trend or significant relationship, indicating that the hours a restaurant is open each day have virtually **no effect on its ratings**. This suggests that **Total Opening Time Hours is not a significant predictor** of restaurant ratings, highlighting the importance of other factors in influencing customer ratings.\n"
   ]
  },
  {
   "cell_type": "markdown",
   "id": "a4dd01c8",
   "metadata": {},
   "source": [
    "### MSE and R^2 values  (Total Opening Hours vs Weighted Ratings)"
   ]
  },
  {
   "cell_type": "code",
   "execution_count": null,
   "id": "64a4f90a",
   "metadata": {},
   "outputs": [],
   "source": [
    "# Prepare the data for regression\n",
    "X_hours = data_final[['total opening time hours']]\n",
    "y_hours = data_final['weighted_rating']\n",
    "\n",
    "# Split the data into training and testing sets\n",
    "X_hours_train, X_hours_test, y_hours_train, y_hours_test = train_test_split(X_hours, y_hours, test_size=0.2, random_state=42)\n",
    "\n",
    "# Create and train the linear regression model\n",
    "model_hours = LinearRegression()\n",
    "model_hours.fit(X_hours_train, y_hours_train)\n",
    "\n",
    "# Predict on the test set\n",
    "y_hours_pred = model_hours.predict(X_hours_test)\n",
    "\n",
    "# Calculate MSE and R^2\n",
    "mse_hours = mean_squared_error(y_hours_test, y_hours_pred)\n",
    "r2_hours = r2_score(y_hours_test, y_hours_pred)\n",
    "\n",
    "mse_hours, r2_hours\n"
   ]
  },
  {
   "cell_type": "markdown",
   "id": "854e7949",
   "metadata": {},
   "source": [
    "## Evaluation of Linear Regression Model: Total Opening Hours vs Weighted Rating\n",
    "\n",
    "### Mean Squared Error (MSE):\n",
    "- **MSE**: 0.0121\n",
    "  - The MSE is relatively low, suggesting that the model's predictions are fairly close to the actual data points on average. However, MSE should be interpreted in conjunction with other metrics like R² for a more comprehensive assessment.\n",
    "\n",
    "### Coefficient of Determination (R²):\n",
    "- **R²**: -0.0025\n",
    "  - A negative R² value indicates that the model does not effectively explain the variation in `weighted_rating`. Essentially, the model is not better at predicting outcomes than using the mean of the observed responses.\n",
    "\n",
    "### General Analysis:\n",
    "- The **negative R² value** implies that a simple linear relationship may not exist between `total opening time hours` and `weighted_rating`. This suggests that the linear model may be inappropriate for these variables.\n",
    "- Given the apparent lack of a clear linear trend in the scatter plot, **alternative modeling approaches** such as non-linear models or including additional explanatory variables might provide better insights.\n",
    "- It's also possible that the total opening hours do not significantly influence the weighted rating directly, and other factors might play a more decisive role. Exploring these factors could offer more accurate predictive models.\n"
   ]
  },
  {
   "cell_type": "code",
   "execution_count": null,
   "id": "b2525a62",
   "metadata": {},
   "outputs": [],
   "source": []
  },
  {
   "cell_type": "code",
   "execution_count": null,
   "id": "f69f3b97",
   "metadata": {},
   "outputs": [],
   "source": []
  },
  {
   "cell_type": "code",
   "execution_count": null,
   "id": "b62aaf25",
   "metadata": {},
   "outputs": [],
   "source": []
  },
  {
   "cell_type": "markdown",
   "id": "21ec328b",
   "metadata": {},
   "source": [
    "# Delivery Options vs Weighted Ratings"
   ]
  },
  {
   "cell_type": "code",
   "execution_count": null,
   "id": "4ad29ad7",
   "metadata": {},
   "outputs": [],
   "source": [
    "# Boxplot of delivery options versus weighted rating\n",
    "plt.figure(figsize=(12, 6))\n",
    "sns.boxplot(x='delivery_options', y='weighted_rating', data=data_final)\n",
    "plt.title('Boxplot of Delivery Options vs Weighted Rating')\n",
    "plt.xlabel('Delivery Options')\n",
    "plt.ylabel('Weighted Rating')\n",
    "plt.xticks(rotation=45)\n",
    "plt.grid(True)\n",
    "plt.show()\n"
   ]
  },
  {
   "cell_type": "markdown",
   "id": "8517cdc5",
   "metadata": {},
   "source": [
    "### Checking for outliers"
   ]
  },
  {
   "cell_type": "code",
   "execution_count": null,
   "id": "33525362",
   "metadata": {},
   "outputs": [],
   "source": [
    "# Dataframe to hold non-outlier data for delivery options\n",
    "data_delivery_no_outliers = pd.DataFrame()\n",
    "\n",
    "for delivery_option in data_final['delivery_options'].unique():\n",
    "    subset_indices = data_final[data_final['delivery_options'] == delivery_option].index\n",
    "    q1 = data_final.loc[subset_indices, 'weighted_rating'].quantile(0.25)\n",
    "    q3 = data_final.loc[subset_indices, 'weighted_rating'].quantile(0.75)\n",
    "    iqr = q3 - q1\n",
    "    lower_bound = q1 - 1.5 * iqr\n",
    "    upper_bound = q3 + 1.5 * iqr\n",
    "    \n",
    "    # Filter to keep only non-outlier data\n",
    "    cleaned_data = data_final.loc[(data_final['weighted_rating'] >= lower_bound) & (data_final['weighted_rating'] <= upper_bound) & (data_final['delivery_options'] == delivery_option)]\n",
    "    \n",
    "    # Append cleaned data\n",
    "    data_delivery_no_outliers = pd.concat([data_delivery_no_outliers, cleaned_data], axis=0)\n",
    "\n",
    "# Display a summary of outliers by delivery options\n",
    "outlier_summary_delivery = data_delivery_no_outliers.groupby(['delivery_options']).size()\n",
    "total_by_delivery_option = data_final.groupby(['delivery_options']).size()\n",
    "outlier_comparison = pd.DataFrame({'Total': total_by_delivery_option, 'Non-Outliers': outlier_summary_delivery})\n",
    "outlier_comparison['Outliers'] = outlier_comparison['Total'] - outlier_comparison['Non-Outliers']\n",
    "outlier_comparison['Percentage'] = (outlier_comparison['Outliers'] / outlier_comparison['Total']) * 100\n",
    "outlier_comparison\n"
   ]
  },
  {
   "cell_type": "markdown",
   "id": "4a65c18d",
   "metadata": {},
   "source": [
    "### Removing outliers"
   ]
  },
  {
   "cell_type": "code",
   "execution_count": null,
   "id": "cb902e5a",
   "metadata": {},
   "outputs": [],
   "source": [
    "# Create a new DataFrame without outliers for more accurate analysis\n",
    "data_delivery_cleaned = pd.DataFrame()\n",
    "\n",
    "for delivery_option in data_final['delivery_options'].unique():\n",
    "    subset_indices = data_final[data_final['delivery_options'] == delivery_option].index\n",
    "    q1 = data_final.loc[subset_indices, 'weighted_rating'].quantile(0.25)\n",
    "    q3 = data_final.loc[subset_indices, 'weighted_rating'].quantile(0.75)\n",
    "    iqr = q3 - q1\n",
    "    lower_bound = q1 - 1.5 * iqr\n",
    "    upper_bound = q3 + 1.5 * iqr\n",
    "    \n",
    "    # Filter to keep only non-outlier data\n",
    "    cleaned_data = data_final.loc[(data_final['weighted_rating'] >= lower_bound) & \n",
    "                                  (data_final['weighted_rating'] <= upper_bound) & \n",
    "                                  (data_final['delivery_options'] == delivery_option)]\n",
    "    \n",
    "    # Append cleaned data\n",
    "    data_delivery_cleaned = pd.concat([data_delivery_cleaned, cleaned_data], axis=0)\n",
    "\n",
    "# Perform ANOVA on the cleaned data\n",
    "anova_model_delivery_cleaned = ols('weighted_rating ~ C(delivery_options)', data=data_delivery_cleaned).fit()\n",
    "anova_table_delivery_cleaned = sm.stats.anova_lm(anova_model_delivery_cleaned, typ=2)\n",
    "anova_table_delivery_cleaned\n"
   ]
  },
  {
   "cell_type": "markdown",
   "id": "47a027c0",
   "metadata": {},
   "source": [
    "## Evaluation of Relationship: Delivery Options vs Weighted Ratings (After Removing Outliers)\n",
    "\n",
    "### ANOVA Test on Cleaned Data:\n",
    "- **F-statistic**: 205.24, which indicates that the differences between group means are highly statistically significant.\n",
    "- **P-value**: \\(8.79 \\times 10^{-130}\\), which provides extremely strong evidence against the null hypothesis that all delivery option groups have the same mean weighted rating.\n",
    "\n",
    "### Insights:\n",
    "- The removal of outliers has refined the dataset, and the results still show highly significant differences in weighted ratings among different delivery options. This suggests that the influence of delivery options on ratings is robust and not driven solely by the presence of outliers.\n",
    "- The extremely low p-value after outlier removal indicates that differences in delivery options have a strong and consistent impact on customer ratings.\n",
    "\n",
    "### Recommendations:\n",
    "- Decision-makers and stakeholders should consider how different delivery methods affect customer satisfaction and tailor their offerings accordingly. This could involve enhancing services or promoting delivery options that correlate with higher customer ratings.\n",
    "- Further analysis could focus on understanding why certain delivery options perform better, possibly examining aspects like speed, reliability, or customer service interaction.\n",
    "\n"
   ]
  },
  {
   "cell_type": "markdown",
   "id": "d104d23d",
   "metadata": {},
   "source": [
    "## Why Use ANOVA: Analysis of Variance\n",
    "\n",
    "### What is ANOVA?\n",
    "ANOVA is a statistical method used to compare the means of three or more independent groups to determine if at least one of the group means is statistically different from the others. It's particularly useful when comparing groups based on categorical variables.\n",
    "\n",
    "### Key Components of ANOVA:\n",
    "- **Between-Group Variability**: This measures how much the group means differ from the overall mean. A larger between-group variability often indicates a significant effect of the categorical variable on the dependent variable.\n",
    "- **Within-Group Variability**: This measures variations within each group. If the within-group variability is small, it suggests that the members of each group are similar to each other.\n",
    "\n",
    "### Why Use ANOVA for `Delivery Options` vs `Weighted Ratings`?\n",
    "- **Categorical Predictor**: Since `delivery_options` is a categorical variable and `weighted_rating` is a continuous variable, ANOVA is appropriate to test if the mean weighted ratings significantly differ by delivery option.\n",
    "- **Multiple Groups**: With multiple delivery options, ANOVA allows us to simultaneously test differences across these groups, rather than conducting multiple two-group tests (like t-tests), which increases the risk of type I errors (incorrectly rejecting the null hypothesis).\n",
    "\n",
    "### Advantages of ANOVA:\n",
    "- **Efficiency**: It provides a single test for evaluating whether any significant differences exist among the groups, which is more efficient than conducting multiple individual t-tests.\n",
    "- **Control Over Type I Errors**: ANOVA controls the Type I error rate more effectively when comparing more than two groups.\n",
    "\n",
    "### How ANOVA Applies to Our Data:\n",
    "In our dataset, `delivery_options` categorizes restaurants based on how they deliver their service (e.g., delivery only, pickup only, both). ANOVA helps us understand if these categories have different impacts on the customer's perceived quality (weighted ratings), which can influence business strategies such as improving service delivery methods that correlate with higher ratings.\n",
    "\n",
    "By using ANOVA, we can effectively assess the impact of delivery options on restaurant ratings and make informed decisions based on statistical evidence.\n"
   ]
  },
  {
   "cell_type": "code",
   "execution_count": null,
   "id": "24eec466",
   "metadata": {},
   "outputs": [],
   "source": []
  },
  {
   "cell_type": "code",
   "execution_count": null,
   "id": "c5f4237f",
   "metadata": {},
   "outputs": [],
   "source": []
  },
  {
   "cell_type": "code",
   "execution_count": null,
   "id": "22bb73bd",
   "metadata": {},
   "outputs": [],
   "source": []
  },
  {
   "cell_type": "code",
   "execution_count": null,
   "id": "462459af",
   "metadata": {},
   "outputs": [],
   "source": []
  },
  {
   "cell_type": "markdown",
   "id": "c0b16c7e",
   "metadata": {},
   "source": [
    "# Location Type vs Ratings"
   ]
  },
  {
   "cell_type": "markdown",
   "id": "0ab1b576",
   "metadata": {},
   "source": [
    "### Calculate the count for **FOOD** and **MART**"
   ]
  },
  {
   "cell_type": "code",
   "execution_count": null,
   "id": "0925b494",
   "metadata": {},
   "outputs": [],
   "source": [
    "location_type_counts = resData['loc_type'].value_counts()\n",
    "location_type_counts"
   ]
  },
  {
   "cell_type": "code",
   "execution_count": null,
   "id": "0632e168",
   "metadata": {},
   "outputs": [],
   "source": [
    "# Boxplot of location type versus weighted rating\n",
    "plt.figure(figsize=(12, 6))\n",
    "sns.boxplot(x='loc_type', y='weighted_rating', data=data_final)\n",
    "plt.title('Boxplot of Location Type vs Weighted Rating')\n",
    "plt.xlabel('Location Type')\n",
    "plt.ylabel('Weighted Rating')\n",
    "plt.xticks(rotation=45)\n",
    "plt.grid(True)\n",
    "plt.show()\n"
   ]
  },
  {
   "cell_type": "code",
   "execution_count": null,
   "id": "c3a2f57b",
   "metadata": {},
   "outputs": [],
   "source": [
    "# Calculate the IQR and identify outliers for each location type\n",
    "outliers = pd.DataFrame()\n",
    "\n",
    "for loc in data_final['loc_type'].unique():\n",
    "    subset = data_final[data_final['loc_type'] == loc]\n",
    "    q1 = subset['weighted_rating'].quantile(0.25)\n",
    "    q3 = subset['weighted_rating'].quantile(0.75)\n",
    "    iqr = q3 - q1\n",
    "    lower_bound = q1 - 1.5 * iqr\n",
    "    upper_bound = q3 + 1.5 * iqr\n",
    "    \n",
    "    # Filter outliers\n",
    "    outlier_data = subset[(subset['weighted_rating'] < lower_bound) | (subset['weighted_rating'] > upper_bound)]\n",
    "    outlier_data['Outlier'] = 'Yes'\n",
    "    subset['Outlier'] = 'No'\n",
    "    subset.loc[outlier_data.index, 'Outlier'] = 'Yes'\n",
    "    \n",
    "    # Append to the outliers dataframe\n",
    "    outliers = pd.concat([outliers, subset], axis=0)\n",
    "\n",
    "# Display a summary of outliers by location type\n",
    "outlier_summary = outliers.groupby(['loc_type', 'Outlier']).size().unstack(fill_value=0)\n",
    "outlier_summary['Total'] = outlier_summary.sum(axis=1)\n",
    "outlier_summary['Percentage'] = (outlier_summary['Yes'] / outlier_summary['Total']) * 100\n",
    "outlier_summary\n"
   ]
  },
  {
   "cell_type": "code",
   "execution_count": null,
   "id": "1f961758",
   "metadata": {},
   "outputs": [],
   "source": [
    "# Remove outliers based on previously identified bounds and re-run ANOVA\n",
    "\n",
    "# Dataframe to hold non-outlier data\n",
    "data_no_outliers = pd.DataFrame()\n",
    "\n",
    "for loc in data_final['loc_type'].unique():\n",
    "    subset = data_final[data_final['loc_type'] == loc]\n",
    "    q1 = subset['weighted_rating'].quantile(0.25)\n",
    "    q3 = subset['weighted_rating'].quantile(0.75)\n",
    "    iqr = q3 - q1\n",
    "    lower_bound = q1 - 1.5 * iqr\n",
    "    upper_bound = q3 + 1.5 * iqr\n",
    "    \n",
    "    # Filter to keep only non-outlier data\n",
    "    cleaned_data = subset[(subset['weighted_rating'] >= lower_bound) & (subset['weighted_rating'] <= upper_bound)]\n",
    "    \n",
    "    # Append cleaned data\n",
    "    data_no_outliers = pd.concat([data_no_outliers, cleaned_data], axis=0)\n",
    "\n",
    "# Perform ANOVA on the cleaned data\n",
    "anova_model_cleaned = ols('weighted_rating ~ C(loc_type)', data=data_no_outliers).fit()\n",
    "anova_table_cleaned = sm.stats.anova_lm(anova_model_cleaned, typ=2)\n",
    "anova_table_cleaned\n"
   ]
  },
  {
   "cell_type": "markdown",
   "id": "114dd2a9",
   "metadata": {},
   "source": [
    "## Evaluation of Relationship: Location Type vs Weighted Ratings (After Removing Outliers)\n",
    "\n",
    "### ANOVA Test on Cleaned Data:\n",
    "- **F-statistic**: 118.39, indicating that the differences between group means are statistically significant.\n",
    "- **P-value**: \\(1.92 \\times 10^{-27}\\), confirming strong evidence against the null hypothesis that all location type groups have the same mean weighted rating, even after outlier removal.\n",
    "\n",
    "### Insights:\n",
    "- The results continue to show significant differences in weighted ratings between different location types, even after the removal of outliers. This suggests that the influence of location type on ratings is robust and not driven solely by the presence of outliers.\n",
    "- The removal of outliers has likely refined the dataset, providing a clearer picture of the true differences between location types without the distortion caused by extreme values.\n",
    "\n",
    "### Recommendations:\n",
    "- Decision-makers and stakeholders should consider the characteristics inherent to different location types that might influence customer ratings. This insight could guide improvements or targeted strategies to enhance customer satisfaction.\n",
    "- Further research could explore what specific aspects of different location types affect ratings more profoundly, potentially focusing on factors like accessibility, amenities, or service quality.\n"
   ]
  },
  {
   "cell_type": "markdown",
   "id": "e83ffb38",
   "metadata": {},
   "source": [
    "### MSE vs R^2 (Location Type vs Ratings)"
   ]
  },
  {
   "cell_type": "code",
   "execution_count": null,
   "id": "c1cae21d",
   "metadata": {},
   "outputs": [],
   "source": [
    "# Filtering data to ensure no NaN values in 'rating'\n",
    "data_filtered_loc_type = resData.dropna(subset=['rating'])\n",
    "\n",
    "# One-hot encoding 'loc_type' after filtering\n",
    "X_encoded_loc_filtered = encoder.fit_transform(data_filtered_loc_type[['loc_type']]).toarray()\n",
    "X_encoded_loc_filtered_df = pd.DataFrame(X_encoded_loc_filtered, columns=encoder.get_feature_names_out(['loc_type']))\n",
    "\n",
    "# Correctly aligned target variable for location type\n",
    "y_loc_type_filtered = data_filtered_loc_type['rating']\n",
    "\n",
    "# Splitting the data correctly\n",
    "X_train_lt_filtered, X_test_lt_filtered, y_train_lt_filtered, y_test_lt_filtered = train_test_split(\n",
    "    X_encoded_loc_filtered_df, y_loc_type_filtered, test_size=0.2, random_state=42)\n",
    "\n",
    "# Recreate and fit the linear regression model for location type\n",
    "model_lt_filtered = LinearRegression()\n",
    "model_lt_filtered.fit(X_train_lt_filtered, y_train_lt_filtered)\n",
    "\n",
    "# Predicting ratings with the correctly filtered data\n",
    "y_pred_lt_filtered = model_lt_filtered.predict(X_test_lt_filtered)\n",
    "\n",
    "# Recalculate MSE and R² for location type with the correct data alignment\n",
    "mse_lt_filtered = mean_squared_error(y_test_lt_filtered, y_pred_lt_filtered)\n",
    "r2_lt_filtered = r2_score(y_test_lt_filtered, y_pred_lt_filtered)\n",
    "\n",
    "mse_lt_filtered, r2_lt_filtered\n"
   ]
  },
  {
   "cell_type": "markdown",
   "id": "bb38934a",
   "metadata": {},
   "source": [
    "The regression model with **Location Type** as predictors achieved a **Mean Squared Error (MSE) of approximately 0.363** and a **Coefficient of Determination (R²) of about 0.0282**. These results suggest a moderate predictive accuracy, with \"Location Type\" explaining only about 3.51% of the variance in ratings. While there is a slight predictive capability, \"Location Type\" alone does not strongly predict restaurant ratings, indicating the need for incorporating more variables into the model for improved prediction accuracy.\n"
   ]
  },
  {
   "cell_type": "code",
   "execution_count": null,
   "id": "61b42009",
   "metadata": {},
   "outputs": [],
   "source": []
  },
  {
   "cell_type": "code",
   "execution_count": null,
   "id": "83a77e6c",
   "metadata": {},
   "outputs": [],
   "source": []
  },
  {
   "cell_type": "code",
   "execution_count": null,
   "id": "7d64d66a",
   "metadata": {},
   "outputs": [],
   "source": []
  },
  {
   "cell_type": "markdown",
   "id": "e9644ae3",
   "metadata": {},
   "source": [
    "# Delivery Cost vs Ratings"
   ]
  },
  {
   "cell_type": "code",
   "execution_count": null,
   "id": "74f30f59",
   "metadata": {},
   "outputs": [],
   "source": [
    "# Scatter plot of delivery cost versus weighted rating\n",
    "plt.figure(figsize=(10, 6))\n",
    "sns.scatterplot(x='delivery_cost', y='weighted_rating', data=data_delivery_cleaned)\n",
    "plt.title('Scatter Plot of Delivery Cost vs Weighted Rating')\n",
    "plt.xlabel('Delivery Cost ($)')\n",
    "plt.ylabel('Weighted Rating')\n",
    "plt.grid(True)\n",
    "plt.show()\n"
   ]
  },
  {
   "cell_type": "markdown",
   "id": "f795ee7d",
   "metadata": {},
   "source": [
    "### MSE and R^2 Value (Delivery Cost vs Ratings)"
   ]
  },
  {
   "cell_type": "code",
   "execution_count": null,
   "id": "2500d30d",
   "metadata": {},
   "outputs": [],
   "source": [
    "# Remove rows with missing delivery cost\n",
    "data_delivery_cleaned_filtered = data_delivery_cleaned.dropna(subset=['delivery_cost'])\n",
    "\n",
    "# Prepare the data again\n",
    "X_filtered = data_delivery_cleaned_filtered[['delivery_cost']]\n",
    "y_filtered = data_delivery_cleaned_filtered['weighted_rating']\n",
    "\n",
    "# Fit the linear regression model again\n",
    "model_filtered = LinearRegression()\n",
    "model_filtered.fit(X_filtered, y_filtered)\n",
    "\n",
    "# Get the slope (coefficient) and intercept\n",
    "slope_filtered = model_filtered.coef_[0]\n",
    "intercept_filtered = model_filtered.intercept_\n",
    "\n",
    "# Predict the ratings\n",
    "y_pred_filtered = model_filtered.predict(X_filtered)\n",
    "\n",
    "# Calculate R² value\n",
    "r_squared_filtered = r2_score(y_filtered, y_pred_filtered)\n",
    "\n",
    "slope_filtered, intercept_filtered, r_squared_filtered\n"
   ]
  },
  {
   "cell_type": "markdown",
   "id": "2a3acadc",
   "metadata": {},
   "source": [
    "## Evaluation of Linear Regression Model: Delivery Cost vs Weighted Rating\n",
    "\n",
    "### Regression Results:\n",
    "- **Slope (Coefficient)**: \\(4.45 \\times 10^{-7}\\)\n",
    "  - This coefficient indicates a very weak positive relationship between delivery cost and weighted rating. Essentially, each additional unit of currency spent on delivery cost marginally increases the weighted rating by \\(4.45 \\times 10^{-7}\\) points.\n",
    "- **Intercept**: 4.257\n",
    "  - The model predicts a baseline weighted rating of approximately 4.257 in the absence of delivery costs, suggesting a generally positive perception of the services regardless of the delivery cost.\n",
    "- **R² Value**: \\(2.27 \\times 10^{-5}\\)\n",
    "  - This value is extremely close to zero, suggesting that the model explains virtually none of the variance in weighted ratings. It indicates that delivery cost is not a significant predictor of weighted ratings.\n",
    "\n",
    "### Interpretation:\n",
    "- The very small slope and the negligible R² value suggest that changes in delivery cost have almost no effect on how users rate the services. This indicates that customers do not significantly factor delivery cost into their overall satisfaction or that other variables not considered in this model are far more influential in determining the weighted ratings.\n",
    "\n",
    "### Conclusion:\n",
    "- The analysis suggests that while delivery cost is a visible aspect of the service, it does not play a major role in how customers rate the service. This could imply that customers might be more focused on other aspects such as service quality, food quality, or delivery speed when rating the services.\n",
    "\n",
    "### Recommendations:\n",
    "- Businesses and service providers should perhaps focus more on improving quality and efficiency rather than adjusting delivery costs to enhance customer satisfaction and ratings.\n",
    "- Further analysis could include other variables such as delivery time, food quality indicators, or customer service metrics to better understand what influences customer ratings more significantly.\n"
   ]
  },
  {
   "cell_type": "code",
   "execution_count": null,
   "id": "189cabfe",
   "metadata": {},
   "outputs": [],
   "source": []
  },
  {
   "cell_type": "code",
   "execution_count": null,
   "id": "8468c946",
   "metadata": {},
   "outputs": [],
   "source": []
  },
  {
   "cell_type": "code",
   "execution_count": null,
   "id": "21db0b51",
   "metadata": {},
   "outputs": [],
   "source": []
  },
  {
   "cell_type": "markdown",
   "id": "5e8a708a",
   "metadata": {},
   "source": [
    "# Top Cuisine vs Ratings"
   ]
  },
  {
   "cell_type": "code",
   "execution_count": null,
   "id": "bca754ce",
   "metadata": {},
   "outputs": [],
   "source": [
    "# Handle NaN values by replacing them with empty lists and reattempt the conversion\n",
    "data_delivery_cleaned['cuisine_list'] = data_delivery_cleaned['cuisine'].fillna(\"[]\").apply(ast.literal_eval)\n",
    "\n",
    "# Flatten the list of cuisines into a single list and calculate frequencies again\n",
    "all_cuisines = [cuisine for sublist in data_delivery_cleaned['cuisine_list'] for cuisine in sublist]\n",
    "cuisine_series = pd.Series(all_cuisines)\n",
    "top_cuisines = cuisine_series.value_counts().head(10)  # Get the top 10 cuisines by frequency\n",
    "\n",
    "top_cuisines\n"
   ]
  },
  {
   "cell_type": "code",
   "execution_count": null,
   "id": "de506fb1",
   "metadata": {},
   "outputs": [],
   "source": [
    "# Create a mapping of cuisines to their respective weighted ratings\n",
    "cuisine_ratings = {cuisine: data_delivery_cleaned[data_delivery_cleaned['cuisine_list'].apply(lambda x: cuisine in x)]['weighted_rating'].mean() for cuisine in top_cuisines.index}\n",
    "\n",
    "# Convert to a DataFrame for easier plotting\n",
    "cuisine_ratings_df = pd.DataFrame(list(cuisine_ratings.items()), columns=['Cuisine', 'Average Weighted Rating']).sort_values(by='Average Weighted Rating', ascending=False)\n",
    "\n",
    "# Plot the average weighted ratings for each top cuisine\n",
    "plt.figure(figsize=(12, 6))\n",
    "sns.barplot(x='Average Weighted Rating', y='Cuisine', data=cuisine_ratings_df, palette='coolwarm')\n",
    "plt.title('Average Weighted Ratings for Top Cuisines')\n",
    "plt.xlabel('Average Weighted Rating')\n",
    "plt.ylabel('Cuisine')\n",
    "plt.grid(True)\n",
    "plt.show()\n"
   ]
  },
  {
   "cell_type": "code",
   "execution_count": null,
   "id": "34756f76",
   "metadata": {},
   "outputs": [],
   "source": [
    "from sklearn.preprocessing import MultiLabelBinarizer\n",
    "from sklearn.metrics import mean_squared_error\n",
    "\n",
    "# Initialize the MultiLabelBinarizer\n",
    "mlb = MultiLabelBinarizer()\n",
    "\n",
    "# One-hot encode the top cuisines\n",
    "top_cuisines_list = top_cuisines.index.tolist()\n",
    "data_delivery_cleaned['top_cuisine_list'] = data_delivery_cleaned['cuisine_list'].apply(\n",
    "    lambda x: [cuisine for cuisine in x if cuisine in top_cuisines_list]\n",
    ")\n",
    "cuisine_encoded = mlb.fit_transform(data_delivery_cleaned['top_cuisine_list'])\n",
    "\n",
    "# Create a DataFrame from the encoded cuisines\n",
    "cuisine_encoded_df = pd.DataFrame(cuisine_encoded, columns=mlb.classes_, index=data_delivery_cleaned.index)\n",
    "\n",
    "# Add the weighted rating to the DataFrame\n",
    "cuisine_encoded_df['weighted_rating'] = data_delivery_cleaned['weighted_rating']\n",
    "\n",
    "# Fit a linear regression model\n",
    "X_cuisines = cuisine_encoded_df.drop('weighted_rating', axis=1)\n",
    "y_cuisines = cuisine_encoded_df['weighted_rating']\n",
    "model_cuisines = LinearRegression()\n",
    "model_cuisines.fit(X_cuisines, y_cuisines)\n",
    "\n",
    "# Predict the ratings\n",
    "y_pred_cuisines = model_cuisines.predict(X_cuisines)\n",
    "\n",
    "# Calculate MSE and R²\n",
    "mse_cuisines = mean_squared_error(y_cuisines, y_pred_cuisines)\n",
    "r_squared_cuisines = r2_score(y_cuisines, y_pred_cuisines)\n",
    "\n",
    "mse_cuisines, r_squared_cuisines\n"
   ]
  },
  {
   "cell_type": "markdown",
   "id": "184504ac",
   "metadata": {},
   "source": [
    "## Statistical Analysis: Top Cuisines vs Weighted Ratings\n",
    "\n",
    "### Regression Model Results:\n",
    "- **Mean Squared Error (MSE)**: 0.0035\n",
    "  - The MSE is relatively low, indicating that the model's predictions are close to the actual ratings on average. However, MSE alone does not reveal the model's explanatory power.\n",
    "- **R-squared (R²)**: 0.0459\n",
    "  - The R² value is about 4.59%, which suggests that only a small fraction of the variability in weighted ratings is explained by the cuisine types. This indicates that while cuisine type has some impact, most of the variation in ratings is influenced by other factors not captured by cuisine type alone.\n",
    "\n",
    "### Interpretation:\n",
    "- The low R² value implies that other variables, potentially including factors like service quality, restaurant location, price level, or customer expectations, might play a more significant role in influencing weighted ratings than cuisine type does.\n",
    "- The cuisine type does contribute to the ratings, but its overall impact is limited, suggesting the complexity of factors that customers consider when rating restaurants.\n",
    "\n",
    "### Conclusion:\n",
    "- Cuisine type, while relevant, is not the predominant factor driving weighted ratings. Stakeholders should consider a broader range of attributes when attempting to improve customer satisfaction and ratings.\n",
    "\n",
    "### Recommendations:\n",
    "- **Broader Analysis**: Further research should include more variables, such as price levels, customer service quality, and location characteristics, to better understand what influences customer ratings.\n",
    "- **Targeted Improvements**: Focus on enhancing aspects of the dining experience that are more strongly correlated with customer satisfaction, as indicated by more comprehensive modeling.\n"
   ]
  },
  {
   "cell_type": "code",
   "execution_count": null,
   "id": "4bfaad6c",
   "metadata": {},
   "outputs": [],
   "source": []
  },
  {
   "cell_type": "code",
   "execution_count": null,
   "id": "03e88b89",
   "metadata": {},
   "outputs": [],
   "source": []
  },
  {
   "cell_type": "code",
   "execution_count": null,
   "id": "c75ae1dc",
   "metadata": {},
   "outputs": [],
   "source": []
  },
  {
   "cell_type": "markdown",
   "id": "f5931d76",
   "metadata": {},
   "source": [
    "# Radius vs Rating"
   ]
  },
  {
   "cell_type": "code",
   "execution_count": null,
   "id": "f73a1d97",
   "metadata": {},
   "outputs": [],
   "source": [
    "# Scatter plot of radius versus weighted rating\n",
    "plt.figure(figsize=(10, 6))\n",
    "sns.scatterplot(x='radius', y='weighted_rating', data=data_delivery_cleaned)\n",
    "plt.title('Scatter Plot of Radius vs Weighted Rating')\n",
    "plt.xlabel('Radius (meters)')\n",
    "plt.ylabel('Weighted Rating')\n",
    "plt.grid(True)\n",
    "plt.show()\n"
   ]
  },
  {
   "cell_type": "markdown",
   "id": "6ae3e191",
   "metadata": {},
   "source": [
    "### MSE and R^2 Value (Radius vs Rating)"
   ]
  },
  {
   "cell_type": "code",
   "execution_count": null,
   "id": "a9aef50e",
   "metadata": {},
   "outputs": [],
   "source": [
    "# Prepare the data for regression\n",
    "X_radius = data_delivery_cleaned[['radius']]  # Predictor\n",
    "y_radius = data_delivery_cleaned['weighted_rating']  # Response\n",
    "\n",
    "# Create and train the linear regression model\n",
    "model_radius = LinearRegression()\n",
    "model_radius.fit(X_radius, y_radius)\n",
    "\n",
    "# Get the slope (coefficient) and intercept\n",
    "slope_radius = model_radius.coef_[0]\n",
    "intercept_radius = model_radius.intercept_\n",
    "\n",
    "# Predict the ratings based on the model\n",
    "y_pred_radius = model_radius.predict(X_radius)\n",
    "\n",
    "# Calculate MSE and R²\n",
    "mse_radius = mean_squared_error(y_radius, y_pred_radius)\n",
    "r_squared_radius = r2_score(y_radius, y_pred_radius)\n",
    "\n",
    "slope_radius, intercept_radius, mse_radius, r_squared_radius\n"
   ]
  },
  {
   "cell_type": "markdown",
   "id": "2aefb491",
   "metadata": {},
   "source": [
    "## Evaluation of Linear Regression Model: Radius vs Weighted Rating\n",
    "\n",
    "### Regression Results:\n",
    "- **Slope (Coefficient)**: \\(2.61 \\times 10^{-7}\\)\n",
    "  - This coefficient suggests a very slight positive relationship between the service radius and weighted ratings. Essentially, as the radius increases, the weighted rating increases very marginally.\n",
    "- **Intercept**: 4.256\n",
    "  - The model predicts a baseline weighted rating of approximately 4.256 when the radius is zero, which is hypothetically the default rating in the absence of distance considerations.\n",
    "- **Mean Squared Error (MSE)**: 0.0037\n",
    "  - The MSE is low, indicating that the model's predictions are relatively close to the actual ratings.\n",
    "- **R-squared (R²)**: 0.0007\n",
    "  - The R² value is extremely low, indicating that the model explains less than 0.1% of the variance in weighted ratings. This implies that the radius of service does not significantly influence how customers rate the services.\n",
    "\n",
    "### Interpretation:\n",
    "- The minimal impact of radius on ratings as indicated by the very low R² value suggests that other factors play much more significant roles in influencing customer ratings.\n",
    "- The radius might not be a primary concern for customers when rating the services, possibly due to expectations that services within a certain range should be consistently good regardless of the specific radius.\n",
    "\n",
    "### Conclusion:\n",
    "- While radius might logically seem to impact customer satisfaction due to factors like delivery times or availability, the analysis suggests that its effect on ratings is negligible. This could imply that customers value quality and service over the mere range of service.\n",
    "\n",
    "### Recommendations:\n",
    "- Focus on enhancing quality and customer service, which are likely more influential on ratings.\n",
    "- Consider analyzing other variables such as delivery time, food quality, and customer service interactions, which might provide more insights into what affects customer satisfaction and ratings significantly.\n"
   ]
  },
  {
   "cell_type": "code",
   "execution_count": 10,
   "id": "de8081d9",
   "metadata": {},
   "outputs": [
    {
     "name": "stdout",
     "output_type": "stream",
     "text": [
      "Mean Squared Error (MSE): 0.3069921681220567\n",
      "Coefficient of Determination (R^2): 0.040717893282274376\n"
     ]
    }
   ],
   "source": [
    "import pandas as pd\n",
    "from sklearn.model_selection import train_test_split\n",
    "from sklearn.linear_model import LinearRegression\n",
    "from sklearn.metrics import mean_squared_error, r2_score\n",
    "from sklearn.preprocessing import OneHotEncoder\n",
    "from sklearn.compose import ColumnTransformer\n",
    "from sklearn.pipeline import Pipeline\n",
    "# Load your data\n",
    "# Clean data: Remove rows with NaN in the necessary columns\n",
    "# data_clean = data.dropna(subset=['rating', 'loc_type', 'delivery_options', 'reviews_nr'])\n",
    "# One-hot encode categorical variables\n",
    "categorical_features = ['loc_type', 'delivery_options']  # Make sure these are the correct column names\n",
    "numeric_features = ['reviews_nr']  # Assuming this is correctly named and formatted\n",
    "# Setup ColumnTransformer for one-hot encoding\n",
    "preprocessor = ColumnTransformer(\n",
    "    transformers=[        \n",
    "        ('cat', OneHotEncoder(), categorical_features),\n",
    "        ('num', 'passthrough', numeric_features)    \n",
    "    ])\n",
    "# Setup the regression pipeline\n",
    "regression_pipeline = Pipeline([   \n",
    "    ('preprocessor', preprocessor),\n",
    "    ('regressor', LinearRegression()\n",
    "    )])\n",
    "# Prepare features and target\n",
    "X = data_clean[categorical_features + numeric_features]\n",
    "y = data_clean['rating']\n",
    "# Split data into training and testing sets\n",
    "X_train, X_test, y_train, y_test = train_test_split(X, y, test_size=0.2, random_state=42)\n",
    "# Fit the model\n",
    "regression_pipeline.fit(X_train, y_train)\n",
    "# Predict and evaluate\n",
    "y_pred = regression_pipeline.predict(X_test)\n",
    "mse = mean_squared_error(y_test, y_pred)\n",
    "r2 = r2_score(y_test, y_pred)\n",
    "print(\"Mean Squared Error (MSE):\", mse)\n",
    "print(\"Coefficient of Determination (R^2):\", r2)"
   ]
  },
  {
   "cell_type": "code",
   "execution_count": null,
   "id": "24d1e897",
   "metadata": {},
   "outputs": [],
   "source": []
  }
 ],
 "metadata": {
  "kernelspec": {
   "display_name": "Python 3 (ipykernel)",
   "language": "python",
   "name": "python3"
  },
  "language_info": {
   "codemirror_mode": {
    "name": "ipython",
    "version": 3
   },
   "file_extension": ".py",
   "mimetype": "text/x-python",
   "name": "python",
   "nbconvert_exporter": "python",
   "pygments_lexer": "ipython3",
   "version": "3.11.5"
  }
 },
 "nbformat": 4,
 "nbformat_minor": 5
}
