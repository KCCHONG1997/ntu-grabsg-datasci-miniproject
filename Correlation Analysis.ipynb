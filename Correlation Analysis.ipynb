{
 "cells": [
  {
   "cell_type": "markdown",
   "id": "ead26dac",
   "metadata": {},
   "source": [
    "Explore correlations between variables such as rating and cost, distance and delivery time, etc., to uncover potential relationships. \n",
    "\n",
    "What will affect the Ratings? \n",
    "\n",
    "- delivery cost\n",
    "- delivery time\n"
   ]
  },
  {
   "cell_type": "code",
   "execution_count": 32,
   "id": "a50416d4",
   "metadata": {},
   "outputs": [],
   "source": [
    "# Basic Libraries\n",
    "import numpy as np\n",
    "import pandas as pd\n",
    "import seaborn as sb\n",
    "import matplotlib.pyplot as plt # we only need pyplot\n",
    "sb.set() # set the default Seaborn style for graphics\n",
    "from sklearn.linear_model import LinearRegression\n",
    "from sklearn.model_selection import train_test_split\n",
    "from sklearn.metrics import mean_squared_error, r2_score\n",
    "sb.set() # set the default Seaborn style for graphics\n",
    "import seaborn as sns"
   ]
  },
  {
   "cell_type": "code",
   "execution_count": 33,
   "id": "fb2fb213",
   "metadata": {
    "scrolled": false
   },
   "outputs": [
    {
     "data": {
      "text/html": [
       "<div>\n",
       "<style scoped>\n",
       "    .dataframe tbody tr th:only-of-type {\n",
       "        vertical-align: middle;\n",
       "    }\n",
       "\n",
       "    .dataframe tbody tr th {\n",
       "        vertical-align: top;\n",
       "    }\n",
       "\n",
       "    .dataframe thead th {\n",
       "        text-align: right;\n",
       "    }\n",
       "</style>\n",
       "<table border=\"1\" class=\"dataframe\">\n",
       "  <thead>\n",
       "    <tr style=\"text-align: right;\">\n",
       "      <th></th>\n",
       "      <th>name</th>\n",
       "      <th>address</th>\n",
       "      <th>cuisine</th>\n",
       "      <th>delivery_cost</th>\n",
       "      <th>lat</th>\n",
       "      <th>lon</th>\n",
       "      <th>opening_hours</th>\n",
       "      <th>radius</th>\n",
       "      <th>rating</th>\n",
       "      <th>reviews_nr</th>\n",
       "      <th>delivery_options</th>\n",
       "      <th>promo</th>\n",
       "      <th>loc_type</th>\n",
       "      <th>delivery_by</th>\n",
       "      <th>delivery_time</th>\n",
       "      <th>total opening time hours</th>\n",
       "    </tr>\n",
       "  </thead>\n",
       "  <tbody>\n",
       "    <tr>\n",
       "      <th>0</th>\n",
       "      <td>Texas Chicken</td>\n",
       "      <td>Texas Chicken - VivoCity</td>\n",
       "      <td>[\"Western\", \"Fast Food\", \"Halal\", \"Chicken\", \"...</td>\n",
       "      <td>570.0</td>\n",
       "      <td>1.264792</td>\n",
       "      <td>103.822103</td>\n",
       "      <td>{\"open\": true, \"displayedHours\": \"10:30-21:30\"...</td>\n",
       "      <td>5000</td>\n",
       "      <td>3.8</td>\n",
       "      <td>1591.0</td>\n",
       "      <td>ONLY_DELIVERY</td>\n",
       "      <td>Use 'TEATIME' for FREE delivery between 3PM to...</td>\n",
       "      <td>FOOD</td>\n",
       "      <td>GRAB</td>\n",
       "      <td>43.0</td>\n",
       "      <td>75.75</td>\n",
       "    </tr>\n",
       "    <tr>\n",
       "      <th>1</th>\n",
       "      <td>Subway</td>\n",
       "      <td>Subway - Vivocity</td>\n",
       "      <td>[\"Healthy\", \"Sandwiches\", \"Fast Food\", \"Halal\"...</td>\n",
       "      <td>570.0</td>\n",
       "      <td>1.264741</td>\n",
       "      <td>103.822072</td>\n",
       "      <td>{\"open\": true, \"displayedHours\": \"12:00-19:00\"...</td>\n",
       "      <td>3000</td>\n",
       "      <td>4.2</td>\n",
       "      <td>197.0</td>\n",
       "      <td>ONLY_DELIVERY</td>\n",
       "      <td>Use 'TEATIME' for FREE delivery between 3PM to...</td>\n",
       "      <td>FOOD</td>\n",
       "      <td>GRAB</td>\n",
       "      <td>42.0</td>\n",
       "      <td>49.00</td>\n",
       "    </tr>\n",
       "    <tr>\n",
       "      <th>2</th>\n",
       "      <td>LiHO Tea</td>\n",
       "      <td>LiHO Tea - Vivo City</td>\n",
       "      <td>[\"Same Prices In-Store\", \"Beverages\", \"Local\",...</td>\n",
       "      <td>560.0</td>\n",
       "      <td>1.264309</td>\n",
       "      <td>103.821369</td>\n",
       "      <td>{\"open\": true, \"displayedHours\": \"11:30-20:45\"...</td>\n",
       "      <td>5000</td>\n",
       "      <td>4.5</td>\n",
       "      <td>353.0</td>\n",
       "      <td>DELIVERY_TAKEAWAY</td>\n",
       "      <td>Use 'TEATIME' for FREE delivery between 3PM to...</td>\n",
       "      <td>FOOD</td>\n",
       "      <td>GRAB</td>\n",
       "      <td>41.0</td>\n",
       "      <td>64.75</td>\n",
       "    </tr>\n",
       "    <tr>\n",
       "      <th>3</th>\n",
       "      <td>Wingstop</td>\n",
       "      <td>Wingstop - VivoCity</td>\n",
       "      <td>[\"Halal\", \"Chicken\", \"Fast Food\", \"Burger\", \"W...</td>\n",
       "      <td>560.0</td>\n",
       "      <td>1.263527</td>\n",
       "      <td>103.821712</td>\n",
       "      <td>{\"open\": true, \"displayedHours\": \"11:00-21:00\"...</td>\n",
       "      <td>5000</td>\n",
       "      <td>4.4</td>\n",
       "      <td>1391.0</td>\n",
       "      <td>ONLY_DELIVERY</td>\n",
       "      <td>Use 'TEATIME' for FREE delivery between 3PM to...</td>\n",
       "      <td>FOOD</td>\n",
       "      <td>GRAB</td>\n",
       "      <td>45.0</td>\n",
       "      <td>70.00</td>\n",
       "    </tr>\n",
       "    <tr>\n",
       "      <th>4</th>\n",
       "      <td>Le Shrimp Ramen</td>\n",
       "      <td>Le Shrimp Ramen - Vivocity</td>\n",
       "      <td>[\"Japanese\", \"Ramen\", \"Noodles\", \"Asian\"]</td>\n",
       "      <td>570.0</td>\n",
       "      <td>1.264810</td>\n",
       "      <td>103.822554</td>\n",
       "      <td>{\"open\": true, \"displayedHours\": \"10:30-21:00\"...</td>\n",
       "      <td>5000</td>\n",
       "      <td>4.6</td>\n",
       "      <td>309.0</td>\n",
       "      <td>DELIVERY_TAKEAWAY</td>\n",
       "      <td>Use 'TEATIME' for FREE delivery between 3PM to...</td>\n",
       "      <td>FOOD</td>\n",
       "      <td>GRAB</td>\n",
       "      <td>44.0</td>\n",
       "      <td>73.50</td>\n",
       "    </tr>\n",
       "  </tbody>\n",
       "</table>\n",
       "</div>"
      ],
      "text/plain": [
       "              name                     address  \\\n",
       "0    Texas Chicken    Texas Chicken - VivoCity   \n",
       "1           Subway           Subway - Vivocity   \n",
       "2         LiHO Tea        LiHO Tea - Vivo City   \n",
       "3         Wingstop         Wingstop - VivoCity   \n",
       "4  Le Shrimp Ramen  Le Shrimp Ramen - Vivocity   \n",
       "\n",
       "                                             cuisine  delivery_cost       lat  \\\n",
       "0  [\"Western\", \"Fast Food\", \"Halal\", \"Chicken\", \"...          570.0  1.264792   \n",
       "1  [\"Healthy\", \"Sandwiches\", \"Fast Food\", \"Halal\"...          570.0  1.264741   \n",
       "2  [\"Same Prices In-Store\", \"Beverages\", \"Local\",...          560.0  1.264309   \n",
       "3  [\"Halal\", \"Chicken\", \"Fast Food\", \"Burger\", \"W...          560.0  1.263527   \n",
       "4          [\"Japanese\", \"Ramen\", \"Noodles\", \"Asian\"]          570.0  1.264810   \n",
       "\n",
       "          lon                                      opening_hours  radius  \\\n",
       "0  103.822103  {\"open\": true, \"displayedHours\": \"10:30-21:30\"...    5000   \n",
       "1  103.822072  {\"open\": true, \"displayedHours\": \"12:00-19:00\"...    3000   \n",
       "2  103.821369  {\"open\": true, \"displayedHours\": \"11:30-20:45\"...    5000   \n",
       "3  103.821712  {\"open\": true, \"displayedHours\": \"11:00-21:00\"...    5000   \n",
       "4  103.822554  {\"open\": true, \"displayedHours\": \"10:30-21:00\"...    5000   \n",
       "\n",
       "   rating  reviews_nr   delivery_options  \\\n",
       "0     3.8      1591.0      ONLY_DELIVERY   \n",
       "1     4.2       197.0      ONLY_DELIVERY   \n",
       "2     4.5       353.0  DELIVERY_TAKEAWAY   \n",
       "3     4.4      1391.0      ONLY_DELIVERY   \n",
       "4     4.6       309.0  DELIVERY_TAKEAWAY   \n",
       "\n",
       "                                               promo loc_type delivery_by  \\\n",
       "0  Use 'TEATIME' for FREE delivery between 3PM to...     FOOD        GRAB   \n",
       "1  Use 'TEATIME' for FREE delivery between 3PM to...     FOOD        GRAB   \n",
       "2  Use 'TEATIME' for FREE delivery between 3PM to...     FOOD        GRAB   \n",
       "3  Use 'TEATIME' for FREE delivery between 3PM to...     FOOD        GRAB   \n",
       "4  Use 'TEATIME' for FREE delivery between 3PM to...     FOOD        GRAB   \n",
       "\n",
       "   delivery_time  total opening time hours  \n",
       "0           43.0                     75.75  \n",
       "1           42.0                     49.00  \n",
       "2           41.0                     64.75  \n",
       "3           45.0                     70.00  \n",
       "4           44.0                     73.50  "
      ]
     },
     "execution_count": 33,
     "metadata": {},
     "output_type": "execute_result"
    }
   ],
   "source": [
    "data = pd.read_csv('./Datasets/Cleaned Grab SG Restaurants.csv')\n",
    "data.head()"
   ]
  },
  {
   "cell_type": "code",
   "execution_count": 34,
   "id": "623521df",
   "metadata": {},
   "outputs": [
    {
     "name": "stdout",
     "output_type": "stream",
     "text": [
      "Number of rows: 16136\n",
      "Number of columns: 16\n"
     ]
    }
   ],
   "source": [
    "num_rows, num_columns = data.shape\n",
    "\n",
    "print(\"Number of rows:\", num_rows)\n",
    "print(\"Number of columns:\", num_columns)"
   ]
  },
  {
   "cell_type": "code",
   "execution_count": 35,
   "id": "6d84a549",
   "metadata": {},
   "outputs": [
    {
     "data": {
      "text/html": [
       "<div>\n",
       "<style scoped>\n",
       "    .dataframe tbody tr th:only-of-type {\n",
       "        vertical-align: middle;\n",
       "    }\n",
       "\n",
       "    .dataframe tbody tr th {\n",
       "        vertical-align: top;\n",
       "    }\n",
       "\n",
       "    .dataframe thead th {\n",
       "        text-align: right;\n",
       "    }\n",
       "</style>\n",
       "<table border=\"1\" class=\"dataframe\">\n",
       "  <thead>\n",
       "    <tr style=\"text-align: right;\">\n",
       "      <th></th>\n",
       "      <th>name</th>\n",
       "      <th>address</th>\n",
       "      <th>cuisine</th>\n",
       "      <th>delivery_cost</th>\n",
       "      <th>lat</th>\n",
       "      <th>lon</th>\n",
       "      <th>opening_hours</th>\n",
       "      <th>radius</th>\n",
       "      <th>rating</th>\n",
       "      <th>reviews_nr</th>\n",
       "      <th>delivery_options</th>\n",
       "      <th>promo</th>\n",
       "      <th>loc_type</th>\n",
       "      <th>delivery_by</th>\n",
       "      <th>delivery_time</th>\n",
       "      <th>total opening time hours</th>\n",
       "    </tr>\n",
       "  </thead>\n",
       "  <tbody>\n",
       "    <tr>\n",
       "      <th>0</th>\n",
       "      <td>Texas Chicken</td>\n",
       "      <td>Texas Chicken - VivoCity</td>\n",
       "      <td>[\"Western\", \"Fast Food\", \"Halal\", \"Chicken\", \"...</td>\n",
       "      <td>570.0</td>\n",
       "      <td>1.264792</td>\n",
       "      <td>103.822103</td>\n",
       "      <td>{\"open\": true, \"displayedHours\": \"10:30-21:30\"...</td>\n",
       "      <td>5000</td>\n",
       "      <td>3.8</td>\n",
       "      <td>1591.0</td>\n",
       "      <td>ONLY_DELIVERY</td>\n",
       "      <td>Use 'TEATIME' for FREE delivery between 3PM to...</td>\n",
       "      <td>FOOD</td>\n",
       "      <td>GRAB</td>\n",
       "      <td>43.0</td>\n",
       "      <td>75.75</td>\n",
       "    </tr>\n",
       "    <tr>\n",
       "      <th>1</th>\n",
       "      <td>Subway</td>\n",
       "      <td>Subway - Vivocity</td>\n",
       "      <td>[\"Healthy\", \"Sandwiches\", \"Fast Food\", \"Halal\"...</td>\n",
       "      <td>570.0</td>\n",
       "      <td>1.264741</td>\n",
       "      <td>103.822072</td>\n",
       "      <td>{\"open\": true, \"displayedHours\": \"12:00-19:00\"...</td>\n",
       "      <td>3000</td>\n",
       "      <td>4.2</td>\n",
       "      <td>197.0</td>\n",
       "      <td>ONLY_DELIVERY</td>\n",
       "      <td>Use 'TEATIME' for FREE delivery between 3PM to...</td>\n",
       "      <td>FOOD</td>\n",
       "      <td>GRAB</td>\n",
       "      <td>42.0</td>\n",
       "      <td>49.00</td>\n",
       "    </tr>\n",
       "    <tr>\n",
       "      <th>2</th>\n",
       "      <td>LiHO Tea</td>\n",
       "      <td>LiHO Tea - Vivo City</td>\n",
       "      <td>[\"Same Prices In-Store\", \"Beverages\", \"Local\",...</td>\n",
       "      <td>560.0</td>\n",
       "      <td>1.264309</td>\n",
       "      <td>103.821369</td>\n",
       "      <td>{\"open\": true, \"displayedHours\": \"11:30-20:45\"...</td>\n",
       "      <td>5000</td>\n",
       "      <td>4.5</td>\n",
       "      <td>353.0</td>\n",
       "      <td>DELIVERY_TAKEAWAY</td>\n",
       "      <td>Use 'TEATIME' for FREE delivery between 3PM to...</td>\n",
       "      <td>FOOD</td>\n",
       "      <td>GRAB</td>\n",
       "      <td>41.0</td>\n",
       "      <td>64.75</td>\n",
       "    </tr>\n",
       "    <tr>\n",
       "      <th>3</th>\n",
       "      <td>Wingstop</td>\n",
       "      <td>Wingstop - VivoCity</td>\n",
       "      <td>[\"Halal\", \"Chicken\", \"Fast Food\", \"Burger\", \"W...</td>\n",
       "      <td>560.0</td>\n",
       "      <td>1.263527</td>\n",
       "      <td>103.821712</td>\n",
       "      <td>{\"open\": true, \"displayedHours\": \"11:00-21:00\"...</td>\n",
       "      <td>5000</td>\n",
       "      <td>4.4</td>\n",
       "      <td>1391.0</td>\n",
       "      <td>ONLY_DELIVERY</td>\n",
       "      <td>Use 'TEATIME' for FREE delivery between 3PM to...</td>\n",
       "      <td>FOOD</td>\n",
       "      <td>GRAB</td>\n",
       "      <td>45.0</td>\n",
       "      <td>70.00</td>\n",
       "    </tr>\n",
       "    <tr>\n",
       "      <th>4</th>\n",
       "      <td>Le Shrimp Ramen</td>\n",
       "      <td>Le Shrimp Ramen - Vivocity</td>\n",
       "      <td>[\"Japanese\", \"Ramen\", \"Noodles\", \"Asian\"]</td>\n",
       "      <td>570.0</td>\n",
       "      <td>1.264810</td>\n",
       "      <td>103.822554</td>\n",
       "      <td>{\"open\": true, \"displayedHours\": \"10:30-21:00\"...</td>\n",
       "      <td>5000</td>\n",
       "      <td>4.6</td>\n",
       "      <td>309.0</td>\n",
       "      <td>DELIVERY_TAKEAWAY</td>\n",
       "      <td>Use 'TEATIME' for FREE delivery between 3PM to...</td>\n",
       "      <td>FOOD</td>\n",
       "      <td>GRAB</td>\n",
       "      <td>44.0</td>\n",
       "      <td>73.50</td>\n",
       "    </tr>\n",
       "  </tbody>\n",
       "</table>\n",
       "</div>"
      ],
      "text/plain": [
       "              name                     address  \\\n",
       "0    Texas Chicken    Texas Chicken - VivoCity   \n",
       "1           Subway           Subway - Vivocity   \n",
       "2         LiHO Tea        LiHO Tea - Vivo City   \n",
       "3         Wingstop         Wingstop - VivoCity   \n",
       "4  Le Shrimp Ramen  Le Shrimp Ramen - Vivocity   \n",
       "\n",
       "                                             cuisine  delivery_cost       lat  \\\n",
       "0  [\"Western\", \"Fast Food\", \"Halal\", \"Chicken\", \"...          570.0  1.264792   \n",
       "1  [\"Healthy\", \"Sandwiches\", \"Fast Food\", \"Halal\"...          570.0  1.264741   \n",
       "2  [\"Same Prices In-Store\", \"Beverages\", \"Local\",...          560.0  1.264309   \n",
       "3  [\"Halal\", \"Chicken\", \"Fast Food\", \"Burger\", \"W...          560.0  1.263527   \n",
       "4          [\"Japanese\", \"Ramen\", \"Noodles\", \"Asian\"]          570.0  1.264810   \n",
       "\n",
       "          lon                                      opening_hours  radius  \\\n",
       "0  103.822103  {\"open\": true, \"displayedHours\": \"10:30-21:30\"...    5000   \n",
       "1  103.822072  {\"open\": true, \"displayedHours\": \"12:00-19:00\"...    3000   \n",
       "2  103.821369  {\"open\": true, \"displayedHours\": \"11:30-20:45\"...    5000   \n",
       "3  103.821712  {\"open\": true, \"displayedHours\": \"11:00-21:00\"...    5000   \n",
       "4  103.822554  {\"open\": true, \"displayedHours\": \"10:30-21:00\"...    5000   \n",
       "\n",
       "   rating  reviews_nr   delivery_options  \\\n",
       "0     3.8      1591.0      ONLY_DELIVERY   \n",
       "1     4.2       197.0      ONLY_DELIVERY   \n",
       "2     4.5       353.0  DELIVERY_TAKEAWAY   \n",
       "3     4.4      1391.0      ONLY_DELIVERY   \n",
       "4     4.6       309.0  DELIVERY_TAKEAWAY   \n",
       "\n",
       "                                               promo loc_type delivery_by  \\\n",
       "0  Use 'TEATIME' for FREE delivery between 3PM to...     FOOD        GRAB   \n",
       "1  Use 'TEATIME' for FREE delivery between 3PM to...     FOOD        GRAB   \n",
       "2  Use 'TEATIME' for FREE delivery between 3PM to...     FOOD        GRAB   \n",
       "3  Use 'TEATIME' for FREE delivery between 3PM to...     FOOD        GRAB   \n",
       "4  Use 'TEATIME' for FREE delivery between 3PM to...     FOOD        GRAB   \n",
       "\n",
       "   delivery_time  total opening time hours  \n",
       "0           43.0                     75.75  \n",
       "1           42.0                     49.00  \n",
       "2           41.0                     64.75  \n",
       "3           45.0                     70.00  \n",
       "4           44.0                     73.50  "
      ]
     },
     "execution_count": 35,
     "metadata": {},
     "output_type": "execute_result"
    }
   ],
   "source": [
    "# Drop rows with any null values\n",
    "data.dropna(inplace=True)\n",
    "\n",
    "# Display the first few rows of the DataFrame after removing null rows\n",
    "data.head()"
   ]
  },
  {
   "cell_type": "code",
   "execution_count": 36,
   "id": "51d5f311",
   "metadata": {},
   "outputs": [
    {
     "name": "stdout",
     "output_type": "stream",
     "text": [
      "Number of rows: 8084\n",
      "Number of columns: 16\n"
     ]
    }
   ],
   "source": [
    "num_rows, num_columns = data.shape\n",
    "\n",
    "print(\"Number of rows:\", num_rows)\n",
    "print(\"Number of columns:\", num_columns)"
   ]
  },
  {
   "cell_type": "markdown",
   "id": "8b1ee756",
   "metadata": {},
   "source": [
    "<!-- ## separate those with available promo with & without -->"
   ]
  },
  {
   "cell_type": "markdown",
   "id": "284228cb",
   "metadata": {},
   "source": [
    "## ratings vs delivery cost"
   ]
  },
  {
   "cell_type": "code",
   "execution_count": 37,
   "id": "1ea55df9",
   "metadata": {
    "scrolled": true
   },
   "outputs": [
    {
     "ename": "NameError",
     "evalue": "name 'rating' is not defined",
     "output_type": "error",
     "traceback": [
      "\u001b[0;31m---------------------------------------------------------------------------\u001b[0m",
      "\u001b[0;31mNameError\u001b[0m                                 Traceback (most recent call last)",
      "Cell \u001b[0;32mIn[37], line 1\u001b[0m\n\u001b[0;32m----> 1\u001b[0m rating\u001b[38;5;241m.\u001b[39mdescribe()\n",
      "\u001b[0;31mNameError\u001b[0m: name 'rating' is not defined"
     ]
    }
   ],
   "source": [
    "rating.describe()"
   ]
  },
  {
   "cell_type": "code",
   "execution_count": 38,
   "id": "4703b168",
   "metadata": {
    "scrolled": true
   },
   "outputs": [
    {
     "ename": "NameError",
     "evalue": "name 'delivery_cost' is not defined",
     "output_type": "error",
     "traceback": [
      "\u001b[0;31m---------------------------------------------------------------------------\u001b[0m",
      "\u001b[0;31mNameError\u001b[0m                                 Traceback (most recent call last)",
      "Cell \u001b[0;32mIn[38], line 1\u001b[0m\n\u001b[0;32m----> 1\u001b[0m delivery_cost\u001b[38;5;241m.\u001b[39mdescribe()\n",
      "\u001b[0;31mNameError\u001b[0m: name 'delivery_cost' is not defined"
     ]
    }
   ],
   "source": [
    "delivery_cost.describe()"
   ]
  },
  {
   "cell_type": "code",
   "execution_count": 39,
   "id": "d2d8021b",
   "metadata": {},
   "outputs": [
    {
     "ename": "NameError",
     "evalue": "name 'rating' is not defined",
     "output_type": "error",
     "traceback": [
      "\u001b[0;31m---------------------------------------------------------------------------\u001b[0m",
      "\u001b[0;31mNameError\u001b[0m                                 Traceback (most recent call last)",
      "Cell \u001b[0;32mIn[39], line 5\u001b[0m\n\u001b[1;32m      2\u001b[0m f, axes \u001b[38;5;241m=\u001b[39m plt\u001b[38;5;241m.\u001b[39msubplots(\u001b[38;5;241m2\u001b[39m, \u001b[38;5;241m3\u001b[39m, figsize\u001b[38;5;241m=\u001b[39m(\u001b[38;5;241m24\u001b[39m, \u001b[38;5;241m12\u001b[39m))\n\u001b[1;32m      4\u001b[0m \u001b[38;5;66;03m# Plot the basic uni-variate figures for HP\u001b[39;00m\n\u001b[0;32m----> 5\u001b[0m sb\u001b[38;5;241m.\u001b[39mboxplot(data \u001b[38;5;241m=\u001b[39m rating, orient \u001b[38;5;241m=\u001b[39m \u001b[38;5;124m\"\u001b[39m\u001b[38;5;124mh\u001b[39m\u001b[38;5;124m\"\u001b[39m, ax \u001b[38;5;241m=\u001b[39m axes[\u001b[38;5;241m0\u001b[39m,\u001b[38;5;241m0\u001b[39m])\n\u001b[1;32m      6\u001b[0m sb\u001b[38;5;241m.\u001b[39mhistplot(data \u001b[38;5;241m=\u001b[39m rating, ax \u001b[38;5;241m=\u001b[39m axes[\u001b[38;5;241m0\u001b[39m,\u001b[38;5;241m1\u001b[39m])\n\u001b[1;32m      7\u001b[0m sb\u001b[38;5;241m.\u001b[39mviolinplot(data \u001b[38;5;241m=\u001b[39m rating, orient \u001b[38;5;241m=\u001b[39m \u001b[38;5;124m\"\u001b[39m\u001b[38;5;124mh\u001b[39m\u001b[38;5;124m\"\u001b[39m, ax \u001b[38;5;241m=\u001b[39m axes[\u001b[38;5;241m0\u001b[39m,\u001b[38;5;241m2\u001b[39m])\n",
      "\u001b[0;31mNameError\u001b[0m: name 'rating' is not defined"
     ]
    },
    {
     "data": {
      "image/png": "[encoded data removed]",
      "text/plain": [
       "<Figure size 2400x1200 with 6 Axes>"
      ]
     },
     "metadata": {},
     "output_type": "display_data"
    }
   ],
   "source": [
    "# Set up matplotlib figure with three subplots\n",
    "f, axes = plt.subplots(2, 3, figsize=(24, 12))\n",
    "\n",
    "# Plot the basic uni-variate figures for HP\n",
    "sb.boxplot(data = rating, orient = \"h\", ax = axes[0,0])\n",
    "sb.histplot(data = rating, ax = axes[0,1])\n",
    "sb.violinplot(data = rating, orient = \"h\", ax = axes[0,2])\n",
    "\n",
    "# Plot the basic uni-variate figures for Attack\n",
    "sb.boxplot(data = delivery_cost, orient = \"h\", ax = axes[1,0])\n",
    "sb.histplot(data = delivery_cost, ax = axes[1,1])\n",
    "sb.violinplot(data = delivery_cost, orient = \"h\", ax = axes[1,2])"
   ]
  },
  {
   "cell_type": "code",
   "execution_count": null,
   "id": "9cee4970",
   "metadata": {
    "scrolled": false
   },
   "outputs": [],
   "source": [
    "# Create DataFrame for 'rating' column\n",
    "rating = pd.DataFrame(data['rating'])\n",
    "\n",
    "# Create DataFrame for 'delivery_cost' column and divide by 100\n",
    "delivery_cost = pd.DataFrame(data['delivery_cost'] / 100)\n",
    "\n",
    "# Combine the two DataFrames horizontally\n",
    "result = pd.concat([rating, delivery_cost], axis=1)\n",
    "\n",
    "# Display the resulting DataFrame\n",
    "result.head()"
   ]
  },
  {
   "cell_type": "code",
   "execution_count": null,
   "id": "192d611b",
   "metadata": {},
   "outputs": [],
   "source": [
    "jointDF = pd.concat([rating, delivery_cost], axis = 1).reindex(rating.index)\n",
    "sb.jointplot(data = jointDF, x = \"rating\", y = \"delivery_cost\", height = 12)"
   ]
  },
  {
   "cell_type": "code",
   "execution_count": null,
   "id": "51eef418",
   "metadata": {},
   "outputs": [],
   "source": [
    "# Calculate the correlation matrix\n",
    "correlation_matrix = result.corr()\n",
    "\n",
    "# Display the correlation matrix\n",
    "print(correlation_matrix)"
   ]
  },
  {
   "cell_type": "code",
   "execution_count": null,
   "id": "6ee8ebae",
   "metadata": {
    "scrolled": true
   },
   "outputs": [],
   "source": [
    "# Calculate the correlation matrix\n",
    "correlation_matrix = result.corr()\n",
    "\n",
    "# Plot the heatmap\n",
    "plt.figure(figsize=(8, 6))\n",
    "sns.heatmap(correlation_matrix, annot=True, cmap='coolwarm', fmt=\".2f\")\n",
    "plt.title('Correlation Heatmap')\n",
    "plt.show()\n"
   ]
  },
  {
   "cell_type": "code",
   "execution_count": null,
   "id": "3023abbd",
   "metadata": {},
   "outputs": [],
   "source": []
  },
  {
   "cell_type": "markdown",
   "id": "461f5018",
   "metadata": {},
   "source": [
    "## since the correlation is near 0, this analysis shows that there is no apprarent linear relaionship between the variables"
   ]
  },
  {
   "cell_type": "markdown",
   "id": "b575a317",
   "metadata": {},
   "source": [
    "## ratings vs delivery time "
   ]
  },
  {
   "cell_type": "code",
   "execution_count": null,
   "id": "396c07ee",
   "metadata": {},
   "outputs": [],
   "source": [
    "delivery_time.describe()"
   ]
  },
  {
   "cell_type": "code",
   "execution_count": null,
   "id": "30578844",
   "metadata": {},
   "outputs": [],
   "source": [
    "rating.describe()"
   ]
  },
  {
   "cell_type": "code",
   "execution_count": null,
   "id": "a34a95ce",
   "metadata": {},
   "outputs": [],
   "source": [
    "# Set up matplotlib figure with three subplots\n",
    "f, axes = plt.subplots(2, 3, figsize=(24, 12))\n",
    "\n",
    "# Plot the basic uni-variate figures for HP\n",
    "sb.boxplot(data = rating, orient = \"h\", ax = axes[0,0])\n",
    "sb.histplot(data = rating, ax = axes[0,1])\n",
    "sb.violinplot(data = rating, orient = \"h\", ax = axes[0,2])\n",
    "\n",
    "# Plot the basic uni-variate figures for Attack\n",
    "sb.boxplot(data = delivery_time, orient = \"h\", ax = axes[1,0])\n",
    "sb.histplot(data = delivery_time, ax = axes[1,1])\n",
    "sb.violinplot(data = delivery_time, orient = \"h\", ax = axes[1,2])"
   ]
  },
  {
   "cell_type": "code",
   "execution_count": null,
   "id": "b92d40e9",
   "metadata": {},
   "outputs": [],
   "source": [
    "# Create DataFrame for 'rating' column\n",
    "rating = pd.DataFrame(data['rating'])\n",
    "\n",
    "# Create DataFrame for 'delivery_cost' column and divide by 100\n",
    "delivery_cost = pd.DataFrame(data['delivery_time'])\n",
    "\n",
    "# Combine the two DataFrames horizontally\n",
    "result = pd.concat([rating, delivery_cost], axis=1)\n",
    "\n",
    "# Display the resulting DataFrame\n",
    "result.head()"
   ]
  },
  {
   "cell_type": "code",
   "execution_count": null,
   "id": "3d9d421f",
   "metadata": {},
   "outputs": [],
   "source": [
    "jointDF = pd.concat([rating, delivery_time], axis = 1).reindex(rating.index)\n",
    "sb.jointplot(data = jointDF, x = \"rating\", y = \"delivery_time\", height = 12)"
   ]
  },
  {
   "cell_type": "code",
   "execution_count": null,
   "id": "23dcf476",
   "metadata": {
    "scrolled": false
   },
   "outputs": [],
   "source": [
    "# Calculate the correlation matrix\n",
    "correlation_matrix = result.corr()\n",
    "\n",
    "# Display the correlation matrix\n",
    "print(correlation_matrix)"
   ]
  },
  {
   "cell_type": "code",
   "execution_count": null,
   "id": "76197870",
   "metadata": {},
   "outputs": [],
   "source": [
    "# Calculate the correlation matrix\n",
    "correlation_matrix = result.corr()\n",
    "\n",
    "# Plot the heatmap\n",
    "plt.figure(figsize=(8, 6))\n",
    "sns.heatmap(correlation_matrix, annot=True, cmap='coolwarm', fmt=\".2f\")\n",
    "plt.title('Correlation Heatmap')\n",
    "plt.show()"
   ]
  },
  {
   "cell_type": "markdown",
   "id": "cbcc23b6",
   "metadata": {},
   "source": [
    "### Since the correlation coefficient is very close to 0 (-0.09194), it suggests that there is a weak negative linear relationship between the variables."
   ]
  },
  {
   "cell_type": "markdown",
   "id": "d60281d4",
   "metadata": {},
   "source": [
    "## ratings and distance "
   ]
  },
  {
   "cell_type": "code",
   "execution_count": null,
   "id": "4a3015f2",
   "metadata": {},
   "outputs": [],
   "source": [
    "# Create DataFrame for 'rating' column\n",
    "rating = pd.DataFrame(data['rating'])\n",
    "\n",
    "# Create DataFrame for 'delivery_cost' column and divide by 100\n",
    "lon = pd.DataFrame(data['lon'])\n",
    "lat = pd.DataFrame(data['lat'])\n",
    "radius = pd.DataFrame(data['radius'])\n",
    "\n",
    "# Combine the two DataFrames horizontally\n",
    "result = pd.concat([rating, lon, lat, radius], axis=1)\n",
    "\n",
    "# Display the resulting DataFrame\n",
    "result.head()"
   ]
  },
  {
   "cell_type": "code",
   "execution_count": null,
   "id": "8ee359ea",
   "metadata": {},
   "outputs": [],
   "source": [
    "correlation_coefficient = data['radius'].corr(data['rating'])\n",
    "correlation_coefficient"
   ]
  },
  {
   "cell_type": "markdown",
   "id": "4044db62",
   "metadata": {},
   "source": [
    "## ratings and opening hours "
   ]
  },
  {
   "cell_type": "code",
   "execution_count": null,
   "id": "f48ff74e",
   "metadata": {},
   "outputs": [],
   "source": [
    "rating.describe()"
   ]
  },
  {
   "cell_type": "code",
   "execution_count": null,
   "id": "6d3f8cef",
   "metadata": {},
   "outputs": [],
   "source": [
    "delivery_time_columns = data['total opening time hours'].columns\n"
   ]
  },
  {
   "cell_type": "code",
   "execution_count": null,
   "id": "420c1430",
   "metadata": {},
   "outputs": [],
   "source": []
  },
  {
   "cell_type": "code",
   "execution_count": null,
   "id": "b3e21f73",
   "metadata": {},
   "outputs": [],
   "source": []
  },
  {
   "cell_type": "code",
   "execution_count": null,
   "id": "3f146255",
   "metadata": {},
   "outputs": [],
   "source": []
  },
  {
   "cell_type": "code",
   "execution_count": null,
   "id": "d6015830",
   "metadata": {},
   "outputs": [],
   "source": []
  }
 ],
 "metadata": {
  "kernelspec": {
   "display_name": "Python 3 (ipykernel)",
   "language": "python",
   "name": "python3"
  },
  "language_info": {
   "codemirror_mode": {
    "name": "ipython",
    "version": 3
   },
   "file_extension": ".py",
   "mimetype": "text/x-python",
   "name": "python",
   "nbconvert_exporter": "python",
   "pygments_lexer": "ipython3",
   "version": "3.11.5"
  }
 },
 "nbformat": 4,
 "nbformat_minor": 5
}
